{
 "cells": [
  {
   "cell_type": "markdown",
   "id": "7c3a2618",
   "metadata": {},
   "source": [
    "# Chapter 2: selection sort"
   ]
  },
  {
   "cell_type": "markdown",
   "id": "9f28787e",
   "metadata": {},
   "source": [
    "This chapter focuses on understanding arrays and linked lists and selection sort."
   ]
  },
  {
   "cell_type": "markdown",
   "id": "b5e02ffd",
   "metadata": {},
   "source": [
    "## How memory works"
   ]
  },
  {
   "cell_type": "markdown",
   "id": "b30a574c",
   "metadata": {},
   "source": [
    "Computers essentially use slots of physical space to store data, with each space given a particular memory address.  "
   ]
  },
  {
   "cell_type": "markdown",
   "id": "7717884c",
   "metadata": {},
   "source": [
    "## Arrays and linked lists"
   ]
  },
  {
   "cell_type": "markdown",
   "id": "fac692a7",
   "metadata": {},
   "source": [
    "The key difference between storing data in an array versus a linked list is that the former stores data in continguous stretches in memory.  This is why growing arrays in for loops can be very slow, because with each iteration of the loop, we need to find a new area in memory to store the data in one contiguous stretch.  Consequently, one way to mitigate this is to physically allocate a given amount of space in memory before performing additional computation.  The only two downsides here is that if you don't use all of the memory you've requested, it's not available for anything else.  And, if you don't know exactly how much memory to allocate, you can't add more than what you've asked for without moving.  \n",
    "\n",
    "In contrast, linked lists can use random memory addresses, because each item in the list stores the address of the next item.  This makes storing additional data in a linked list easy, since we just need to find a new open memory address to store the data.  If we want to access all of the items at once, linked lists work well.  However, if we want to access different elements in the linked list at different indexes, the problem becomes much more difficult because in order to find the address of the piece of data we're interested in, we need to know the address of all of the items in the linked list before it."
   ]
  },
  {
   "cell_type": "markdown",
   "id": "3d4b499e",
   "metadata": {},
   "source": [
    "## Exercise\n"
   ]
  },
  {
   "cell_type": "markdown",
   "id": "a437b8bd",
   "metadata": {},
   "source": [
    "2.1) If we're building an app to keep track of finances and we're constantly adding new items but rarely reading items, I would choose to use a linked list.  The prompt mentions that at the end of the month, we just want to review our expenses and sum up how much we spent-- in other words, we want to read all of the data at once.  While linked lists have a time complexity of O(n) for reading (since we need to review all of the predecing data to find the correct address), the time complexity for inserting a new element is constant with O(1).  "
   ]
  },
  {
   "cell_type": "code",
   "execution_count": null,
   "id": "3fa2db5c",
   "metadata": {},
   "outputs": [],
   "source": []
  }
 ],
 "metadata": {
  "kernelspec": {
   "display_name": "Python 3 (ipykernel)",
   "language": "python",
   "name": "python3"
  },
  "language_info": {
   "codemirror_mode": {
    "name": "ipython",
    "version": 3
   },
   "file_extension": ".py",
   "mimetype": "text/x-python",
   "name": "python",
   "nbconvert_exporter": "python",
   "pygments_lexer": "ipython3",
   "version": "3.9.7"
  }
 },
 "nbformat": 4,
 "nbformat_minor": 5
}
