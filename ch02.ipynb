{
 "cells": [
  {
   "cell_type": "markdown",
   "id": "7c3a2618",
   "metadata": {},
   "source": [
    "# Chapter 2: selection sort"
   ]
  },
  {
   "cell_type": "markdown",
   "id": "9f28787e",
   "metadata": {},
   "source": [
    "This chapter focuses on understanding arrays and linked lists and selection sort."
   ]
  },
  {
   "cell_type": "code",
   "execution_count": 1,
   "id": "2cd94085",
   "metadata": {},
   "outputs": [],
   "source": [
    "# Setup\n",
    "import numpy as np\n",
    "import math"
   ]
  },
  {
   "cell_type": "markdown",
   "id": "b5e02ffd",
   "metadata": {},
   "source": [
    "## How memory works"
   ]
  },
  {
   "cell_type": "markdown",
   "id": "b30a574c",
   "metadata": {},
   "source": [
    "Computers essentially use slots of physical space to store data, with each space given a particular memory address.  "
   ]
  },
  {
   "cell_type": "markdown",
   "id": "7717884c",
   "metadata": {},
   "source": [
    "## Arrays and linked lists"
   ]
  },
  {
   "cell_type": "markdown",
   "id": "fac692a7",
   "metadata": {},
   "source": [
    "The key difference between storing data in an array versus a linked list is that the former stores data in continguous stretches in memory.  This is why growing arrays in for loops can be very slow, because with each iteration of the loop, we need to find a new area in memory to store the data in one contiguous stretch.  Consequently, one way to mitigate this is to physically allocate a given amount of space in memory before performing additional computation.  The only two downsides here is that if you don't use all of the memory you've requested, it's not available for anything else.  And, if you don't know exactly how much memory to allocate, you can't add more than what you've asked for without moving.  \n",
    "\n",
    "In contrast, linked lists can use random memory addresses, because each item in the list stores the address of the next item.  This makes storing additional data in a linked list easy, since we just need to find a new open memory address to store the data.  If we want to access all of the items at once, linked lists work well.  However, if we want to access different elements in the linked list at different indexes, the problem becomes much more difficult because in order to find the address of the piece of data we're interested in, we need to know the address of all of the items in the linked list before it."
   ]
  },
  {
   "cell_type": "markdown",
   "id": "3d4b499e",
   "metadata": {},
   "source": [
    "## Exercise\n"
   ]
  },
  {
   "cell_type": "markdown",
   "id": "a437b8bd",
   "metadata": {},
   "source": [
    "**2.1) If we're building an app to keep track of finances and we're constantly adding new items but rarely reading items, I would choose to use a linked list.  The prompt mentions that at the end of the month, we just want to review our expenses and sum up how much we spent-- in other words, we want to read all of the data at once.  While linked lists have a time complexity of O(n) for reading (since we need to review all of the predecing data to find the correct address), the time complexity for inserting a new element is constant with O(1).**  "
   ]
  },
  {
   "cell_type": "markdown",
   "id": "0982768e",
   "metadata": {},
   "source": [
    "If we want to add or delete an item in the middle of a sequence, linked lists are better because we only need to modify what the previous element points to in memory.  In contrast, the same operations with arrays would involve shifting many previous elements over.  In the case of insertions, it may involve copying the entire array to a new contiguous location, if there's not enough space already."
   ]
  },
  {
   "cell_type": "markdown",
   "id": "a879d0b8",
   "metadata": {},
   "source": [
    "In terms of accessing information, there are two types-- random access and sequential access.  With random access data structures, we can access any random piece of data within the sequence.  In the case of arrays in particular, since all elements are stored in a contiguous sequence, we know the location of every element.  In contrast, sequential access data structures require that we access all of the preceding n-1 elements to get access to the nth element."
   ]
  },
  {
   "cell_type": "markdown",
   "id": "89bc129b",
   "metadata": {},
   "source": [
    "## Exercises"
   ]
  },
  {
   "cell_type": "markdown",
   "id": "abb0a0ac",
   "metadata": {},
   "source": [
    "**2.2) Basic premise of the scenario-- we're creating an app for restaurants to take customer orders.  Servers put the orders in and chefs take them off the order list and make the dishes.**\n",
    "\n",
    "In this situation, I would choose to use a linked list.  We know that in general, chefs aren't going to need random access to data in the queue (given in the prompt) and servers will be constantly inserting elements at the end of the list.  To insert items, the time complexity for arrays is O(n), while it's O(1) for linked lists.  The time complexity for each data structure to delete items (i.e., for the chef to pull orders off the queue) is the same: O(n) for arrays, and O(1) for linked lists.  "
   ]
  },
  {
   "cell_type": "markdown",
   "id": "19e01bb5",
   "metadata": {},
   "source": [
    "**2.3) In this scenario, we need to decide whether to implement a linked list or array for Facebook to check usernames when people try to log in.  We're also told that Facebook will implement binary search to scan through the available usernames.**\n",
    "\n",
    "In this situation, we know that we'll use binary search, which has time complexity O(log n) for sorted lists.  We'll also need random access because the username could be anywhere in the sequence of usernames and binary search requires random access.  For these reasons, we'll need to use an array."
   ]
  },
  {
   "cell_type": "markdown",
   "id": "99b5f3bc",
   "metadata": {},
   "source": [
    "**2.4) This question asks to describe the pros and cons of using an array to store the list of users.  Specifcally, what happens when we add new users to the list.**\n",
    "\n",
    "Arrays are great for storing data in situations that require random access.  Specifically, the time complexity for random access using an array is O(1).  However, arrays are stored in contiguous chunks of memory, which means that if we want to add a new user, we may have to copy the entire contents of the array to a new contiguous chunk of memory.  Binary search using an array has time complexity O(log n), which means that as the size of the array grows, time will not necessarily be a problem.  However, we do need to think about sorting the new array, which could take a substantial amount of time depending on the algorithm used."
   ]
  },
  {
   "cell_type": "markdown",
   "id": "d999b23b",
   "metadata": {},
   "source": [
    "**2.5) Here, we're told that Facebook uses a hybrid data structure-- an array composed of linked lists.  Each slot in the array stores one of 26 letters of the alphabet, each pointing to a linked list.  For example, slot at index 0 points to a linked list of all usernames starting with \"A\".  We're asked to compare whether the new data structure would be faster or slower.**\n",
    "\n",
    "This is an interesting case and we can break this down to qualitatively compare searching and inserting funcionality.  In terms of search, this will be slower than a standard array.  Arrays have time complexity of O(1) for searching, while linked lists have time complexity of O(n).  So, we can use random access to find the correct linked list like an array, but then we'll still need to use sequential access to search and find the data we want.\n",
    "\n",
    "In terms of inserting, it's likely about the same as a linked list because the actual data structure we're inserting elements into is a linked list."
   ]
  },
  {
   "cell_type": "markdown",
   "id": "b169f129",
   "metadata": {},
   "source": [
    "## Selection sort"
   ]
  },
  {
   "cell_type": "markdown",
   "id": "48556333",
   "metadata": {},
   "source": [
    "Selection sort means that we \"select\" each element and append it to a new, sorted list.  However, because we need to view each of n elements, and we'll need to do that n times to create the new sorted list, the time complexity is O(n^2).  \n",
    "\n",
    "Below is some sample code to create a selection sort algorithm.  I've broken down the function into individual components to describe what's happening in each section.  \n"
   ]
  },
  {
   "cell_type": "code",
   "execution_count": 12,
   "id": "c0f53779",
   "metadata": {},
   "outputs": [],
   "source": [
    "# Define a test array\n",
    "arr = [10, 9, 8, 7, 6, 5, 4, 3, 2, 1]"
   ]
  },
  {
   "cell_type": "code",
   "execution_count": 11,
   "id": "8b7cbcb0",
   "metadata": {},
   "outputs": [
    {
     "name": "stdout",
     "output_type": "stream",
     "text": [
      "Value at index 1 is 9\n",
      "Smallest value is now 9\n",
      "Smallest index is now 1\n",
      "\n",
      "Value at index 2 is 8\n",
      "Smallest value is now 8\n",
      "Smallest index is now 2\n",
      "\n",
      "Value at index 3 is 7\n",
      "Smallest value is now 7\n",
      "Smallest index is now 3\n",
      "\n",
      "Value at index 4 is 6\n",
      "Smallest value is now 6\n",
      "Smallest index is now 4\n",
      "\n",
      "Value at index 5 is 5\n",
      "Smallest value is now 5\n",
      "Smallest index is now 5\n",
      "\n",
      "Value at index 6 is 4\n",
      "Smallest value is now 4\n",
      "Smallest index is now 6\n",
      "\n",
      "Value at index 7 is 3\n",
      "Smallest value is now 3\n",
      "Smallest index is now 7\n",
      "\n",
      "Value at index 8 is 2\n",
      "Smallest value is now 2\n",
      "Smallest index is now 8\n",
      "\n",
      "Value at index 9 is 1\n",
      "Smallest value is now 1\n",
      "Smallest index is now 9\n",
      "\n"
     ]
    }
   ],
   "source": [
    "# First, set the baseline smallest value and index\n",
    "# Then, iterate over the array and compare the baseline smallest value\n",
    "# If the value in the array is smaller than the baseline, reset the new smallest value\n",
    "smallest_value = arr[0]\n",
    "smallest_index = 0\n",
    "for i in range(1, len(arr)):\n",
    "    print(f'Value at index {i} is {arr[i]}')\n",
    "    if arr[i] < smallest_value:\n",
    "        print(f'Smallest value is now {arr[i]}')\n",
    "        print(f'Smallest index is now {i}\\n')\n"
   ]
  },
  {
   "cell_type": "markdown",
   "id": "38bfa1f0",
   "metadata": {},
   "source": [
    "First, we set a baseline smallest value as the first element in the array (i.e., the element at index 0).  We'll also set the smallest index as 0.  Then, we'll search through the array, starting at index 1, and ask if element in the array is smaller than the baseline smallest value.  If that's true, then we'll reset the baseline smallest value and its index.  Since we started with an array from 10 to 1, for each iteration of the list, the baseline smallest value will be updated until it's 1.  Now let's turn this into a function."
   ]
  },
  {
   "cell_type": "code",
   "execution_count": 16,
   "id": "476ec793",
   "metadata": {},
   "outputs": [],
   "source": [
    "def find_smallest(arr):\n",
    "    \"\"\"Find the smallest value in an array and return its index.\"\"\"\n",
    "    \n",
    "    # Set baselines\n",
    "    smallest_value = arr[0]\n",
    "    smallest_index = 0\n",
    "    \n",
    "    # Search through the array to find the smallest value and index\n",
    "    for i in range(1, len(arr)):\n",
    "        if arr[i] < smallest_value:\n",
    "            smallest_value = arr[i] # reset baseline value\n",
    "            smallest_index = i # reset baseline index\n",
    "            \n",
    "    return smallest_index"
   ]
  },
  {
   "cell_type": "code",
   "execution_count": 17,
   "id": "4380cac6",
   "metadata": {},
   "outputs": [],
   "source": [
    "# Test function\n",
    "assert find_smallest(arr) == 9, f'Smallest index should be 9.'"
   ]
  },
  {
   "cell_type": "markdown",
   "id": "ca810a9d",
   "metadata": {},
   "source": [
    "Now we'll use the same approach to break down a function for performing the selection sort using the `find_smallest` function."
   ]
  },
  {
   "cell_type": "code",
   "execution_count": 23,
   "id": "98268442",
   "metadata": {},
   "outputs": [
    {
     "name": "stdout",
     "output_type": "stream",
     "text": [
      "Smallest value at iteration 1: 1\n",
      "Contents of sorted array at iteration 1:\n",
      "[1]\n",
      "\n",
      "Smallest value at iteration 2: 2\n",
      "Contents of sorted array at iteration 2:\n",
      "[1, 2]\n",
      "\n",
      "Smallest value at iteration 3: 3\n",
      "Contents of sorted array at iteration 3:\n",
      "[1, 2, 3]\n",
      "\n",
      "Smallest value at iteration 4: 4\n",
      "Contents of sorted array at iteration 4:\n",
      "[1, 2, 3, 4]\n",
      "\n",
      "Smallest value at iteration 5: 5\n",
      "Contents of sorted array at iteration 5:\n",
      "[1, 2, 3, 4, 5]\n",
      "\n",
      "Smallest value at iteration 6: 6\n",
      "Contents of sorted array at iteration 6:\n",
      "[1, 2, 3, 4, 5, 6]\n",
      "\n",
      "Smallest value at iteration 7: 7\n",
      "Contents of sorted array at iteration 7:\n",
      "[1, 2, 3, 4, 5, 6, 7]\n",
      "\n",
      "Smallest value at iteration 8: 8\n",
      "Contents of sorted array at iteration 8:\n",
      "[1, 2, 3, 4, 5, 6, 7, 8]\n",
      "\n",
      "Smallest value at iteration 9: 9\n",
      "Contents of sorted array at iteration 9:\n",
      "[1, 2, 3, 4, 5, 6, 7, 8, 9]\n",
      "\n",
      "Smallest value at iteration 10: 10\n",
      "Contents of sorted array at iteration 10:\n",
      "[1, 2, 3, 4, 5, 6, 7, 8, 9, 10]\n",
      "\n"
     ]
    }
   ],
   "source": [
    "# First, define original array again and new sorted array\n",
    "arr = [10, 9, 8, 7, 6, 5, 4, 3, 2, 1]\n",
    "sorted_arr = []\n",
    "\n",
    "# Sort through the original array--\n",
    "# Find the smallest index \n",
    "# Pop its value off the original array\n",
    "# Append it to the new sorted array\n",
    "for i in range(len(arr)):\n",
    "    smallest_value = find_smallest(arr)\n",
    "    print(f'Smallest value at iteration {i+1}: {arr[smallest_value]}')\n",
    "    \n",
    "    sorted_arr.append(arr.pop(smallest_value))\n",
    "    print(f'Contents of sorted array at iteration {i+1}:\\n{sorted_arr}\\n')"
   ]
  },
  {
   "cell_type": "markdown",
   "id": "bda2c400",
   "metadata": {},
   "source": [
    "Breaking down each of the steps: 1) first, we need to define an empty array to hold the sorted values; 2) now we need to iterate n times, where n is equal to the length of the original array; 3) for each iteration, we find the smallest index with `find_smallest`; 4) we then pop off the smallest value from the original array and append it to the new array; 5) that was one iteration, and now our original array will have one fewer element.\n",
    "\n",
    "Let's put all of this code (minus the print statements) into a function."
   ]
  },
  {
   "cell_type": "code",
   "execution_count": 24,
   "id": "22e28bbf",
   "metadata": {},
   "outputs": [],
   "source": [
    "def selection_sort(arr):\n",
    "    \"\"\"Return new sorted array using the selection sort algorith.\"\"\"\n",
    "    sorted_arr = []\n",
    "    for i in range(len(arr)):\n",
    "        smallest_index = find_smallest(arr)\n",
    "        sorted_arr.append(arr.pop(smallest_index))\n",
    "        \n",
    "    return sorted_arr"
   ]
  },
  {
   "cell_type": "code",
   "execution_count": 33,
   "id": "2d71147a",
   "metadata": {},
   "outputs": [],
   "source": [
    "# Test\n",
    "arr = list(range(10, 0, -1)) # 10 to 1\n",
    "sorted_arr = list(range(1, 11)) # 1 to 10\n",
    "\n",
    "assert selection_sort(arr) == sorted_arr, f'Sorted array should be {sorted_arr}'"
   ]
  },
  {
   "cell_type": "code",
   "execution_count": null,
   "id": "0d5d5ece",
   "metadata": {},
   "outputs": [],
   "source": []
  }
 ],
 "metadata": {
  "kernelspec": {
   "display_name": "Python 3 (ipykernel)",
   "language": "python",
   "name": "python3"
  },
  "language_info": {
   "codemirror_mode": {
    "name": "ipython",
    "version": 3
   },
   "file_extension": ".py",
   "mimetype": "text/x-python",
   "name": "python",
   "nbconvert_exporter": "python",
   "pygments_lexer": "ipython3",
   "version": "3.9.7"
  }
 },
 "nbformat": 4,
 "nbformat_minor": 5
}
