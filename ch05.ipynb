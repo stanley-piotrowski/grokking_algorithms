{
 "cells": [
  {
   "cell_type": "markdown",
   "id": "3b7cc7ac",
   "metadata": {},
   "source": [
    "# Chapter 5: hash tables"
   ]
  },
  {
   "cell_type": "markdown",
   "id": "5676b181",
   "metadata": {},
   "source": [
    "Hash tables are a unique data structure that allows the immediate lookup of values in O(1) Big O time."
   ]
  },
  {
   "cell_type": "markdown",
   "id": "568964e1",
   "metadata": {},
   "source": [
    "## Hash functions"
   ]
  },
  {
   "cell_type": "markdown",
   "id": "e28462ca",
   "metadata": {},
   "source": [
    "Put simply, a hash function is a function which maps a string input to a number, such that the mapping is consistent and the output is unique.  These numbers correspond to the memory address where the data are stored, which facilitates the O(1) time complexity.  The hash function will generate the same number for the same string so we can go right to that location in memory and access the data without any searching involved.\n",
    "\n",
    "In Python, hash tables are implemented as dictionaries."
   ]
  },
  {
   "cell_type": "code",
   "execution_count": 4,
   "id": "04431784",
   "metadata": {},
   "outputs": [
    {
     "name": "stdout",
     "output_type": "stream",
     "text": [
      "Item: apple\n",
      "Price: $0.67\n",
      "\n",
      "Item: milk\n",
      "Price: $1.49\n",
      "\n",
      "Item: avocado\n",
      "Price: $1.49\n",
      "\n"
     ]
    }
   ],
   "source": [
    "# Create new hash table for groceries\n",
    "book = dict()\n",
    "\n",
    "# Add a few items and prices\n",
    "book['apple'] = 0.67\n",
    "book['milk'] = 1.49\n",
    "book['avocado'] = 1.49\n",
    "\n",
    "for key, val in book.items():\n",
    "    print(f'Item: {key}\\nPrice: ${val}\\n')"
   ]
  },
  {
   "cell_type": "markdown",
   "id": "f1d1f5e7",
   "metadata": {},
   "source": [
    "Just out of curiosity, I want to see the numeric values that are generated with the hash function for each key in the dictionary."
   ]
  },
  {
   "cell_type": "code",
   "execution_count": 5,
   "id": "844eb3dc",
   "metadata": {},
   "outputs": [
    {
     "name": "stdout",
     "output_type": "stream",
     "text": [
      "Item: apple --> 2153814947804476626\n",
      "Item: milk --> -589866124921558863\n",
      "Item: avocado --> -1750040582741651925\n"
     ]
    }
   ],
   "source": [
    "for key in book.keys():\n",
    "    print(f'Item: {key} --> {hash(key)}')"
   ]
  },
  {
   "cell_type": "markdown",
   "id": "187f0004",
   "metadata": {},
   "source": [
    "## Exercises"
   ]
  },
  {
   "cell_type": "markdown",
   "id": "9789654e",
   "metadata": {},
   "source": [
    "For each question, describe whether or not each of the hash functions is consistent."
   ]
  },
  {
   "cell_type": "markdown",
   "id": "4c93b667",
   "metadata": {},
   "source": [
    "**5.1) `f(x) = 1`**\n",
    "\n",
    "This would be a pretty bad hash function because although it's consistent, it just returns 1 for whatever `x` is, so we would not be able to discern the output from one string versus another."
   ]
  },
  {
   "cell_type": "markdown",
   "id": "00c98917",
   "metadata": {},
   "source": [
    "**5.2) `f(x) = rand()`**\n",
    "\n",
    "This wouldn't be a good hash function either, because it would consistently return a different output each time the same string is used as input."
   ]
  },
  {
   "cell_type": "markdown",
   "id": "4bd499d2",
   "metadata": {},
   "source": [
    "**5.3) `f(x) = next_empty_slot()`**\n",
    "\n",
    "This would also be a pretty lousy hash function, because if the same string was ever at a different index in another hash table, you'd get a different mapping."
   ]
  },
  {
   "cell_type": "markdown",
   "id": "ab69f4aa",
   "metadata": {},
   "source": [
    "**5.4) `f(x) = len(x)`**\n",
    "\n",
    "This hash function would give you the same output for a given string, but there's no way to discern two strings that are the same length."
   ]
  },
  {
   "cell_type": "markdown",
   "id": "7a0db45f",
   "metadata": {},
   "source": [
    "## Use cases"
   ]
  },
  {
   "cell_type": "markdown",
   "id": "96c37436",
   "metadata": {},
   "source": [
    "Here, we'll simulate a phone book using a hash table."
   ]
  },
  {
   "cell_type": "code",
   "execution_count": 1,
   "id": "b5aef853",
   "metadata": {},
   "outputs": [],
   "source": [
    "# Initialize hash table\n",
    "phone_book = dict()\n",
    "\n",
    "# Populate\n",
    "phone_book['jenny'] = 8675309\n",
    "phone_book['emergency'] = 911"
   ]
  },
  {
   "cell_type": "code",
   "execution_count": 3,
   "id": "c082e04a",
   "metadata": {},
   "outputs": [
    {
     "name": "stdout",
     "output_type": "stream",
     "text": [
      "Jenny's phone number is: 8675309\n"
     ]
    }
   ],
   "source": [
    "# Access Jenny's number\n",
    "print(f\"Jenny's phone number is: {phone_book['jenny']}\")"
   ]
  },
  {
   "cell_type": "markdown",
   "id": "e7e1b464",
   "metadata": {},
   "source": [
    "Implement a hash table to keep track of who has voted.  First, we'll initialize the hash table and prompt the user to type their first and last name (spelling doesn't matter because we'll convert both to lower case to avoid any mistakes).  Then, we'll check to see if the user's name is in the `voted` dictionary keys.  If it isn't already there, the user hasn't voted, so we'll add them to the list and allow them to vote.  However, if their name is in the keys, we'll let them know that they've already voted."
   ]
  },
  {
   "cell_type": "code",
   "execution_count": 11,
   "id": "518a785f",
   "metadata": {},
   "outputs": [
    {
     "name": "stdout",
     "output_type": "stream",
     "text": [
      "Please enter your first and last name, separated by a space.\n",
      "To quit, type \"q\"\n",
      "\n",
      "First and last name: stan piotrowski\n",
      "Thanks for voting, Stan Piotrowski!\n",
      "\n",
      "First and last name: frodo baggins\n",
      "Thanks for voting, Frodo Baggins!\n",
      "\n",
      "First and last name: samwise gamgee\n",
      "Thanks for voting, Samwise Gamgee!\n",
      "\n",
      "First and last name: han solo\n",
      "Thanks for voting, Han Solo!\n",
      "\n",
      "First and last name: stan piotrowski\n",
      "Stan Piotrowski-- you already voted!\n",
      "\n",
      "First and last name: q\n"
     ]
    }
   ],
   "source": [
    "# Initialize hash table\n",
    "voted = {}\n",
    "print('Please enter your first and last name, separated by a space.')\n",
    "print('To quit, type \"q\"\\n')\n",
    "\n",
    "while True:\n",
    "    \n",
    "    user = input('First and last name: ' )\n",
    "    \n",
    "    if user == 'q':\n",
    "        break\n",
    "    else: \n",
    "        if user.lower() not in voted.keys():\n",
    "            voted[user.lower()] = True\n",
    "            print(f'Thanks for voting, {user.title()}!\\n')\n",
    "\n",
    "        else: \n",
    "            print(f'{user.title()}-- you already voted!\\n')"
   ]
  },
  {
   "cell_type": "code",
   "execution_count": 12,
   "id": "0c9f89a6",
   "metadata": {},
   "outputs": [
    {
     "name": "stdout",
     "output_type": "stream",
     "text": [
      "The following people have voted:\n",
      "Stan Piotrowski\n",
      "Frodo Baggins\n",
      "Samwise Gamgee\n",
      "Han Solo\n"
     ]
    }
   ],
   "source": [
    "# Get the names of the people that voted\n",
    "print('The following people have voted:')\n",
    "for name in voted.keys():\n",
    "    print(f'{name.title()}')"
   ]
  },
  {
   "cell_type": "markdown",
   "id": "4434509a",
   "metadata": {},
   "source": [
    "We can write this a slightly different way using the `get()` dictionary method."
   ]
  },
  {
   "cell_type": "code",
   "execution_count": 16,
   "id": "e89fd485",
   "metadata": {},
   "outputs": [
    {
     "name": "stdout",
     "output_type": "stream",
     "text": [
      "Please enter your first and last name, separated by a space.\n",
      "To quit, type \"q\"\n",
      "\n",
      "First and last name: stan piotrowski\n",
      "Let Stan Piotrowski vote!\n",
      "\n",
      "First and last name: frodo baggins\n",
      "Let Frodo Baggins vote!\n",
      "\n",
      "First and last name: samwise gamgee\n",
      "Let Samwise Gamgee vote!\n",
      "\n",
      "First and last name: han solo\n",
      "Let Han Solo vote!\n",
      "\n",
      "First and last name: han solo\n",
      "Han Solo has already voted-- kick them out!\n",
      "\n",
      "First and last name: q\n"
     ]
    }
   ],
   "source": [
    "# Initialize new hash table\n",
    "voted = {}\n",
    "print('Please enter your first and last name, separated by a space.')\n",
    "print('To quit, type \"q\"\\n')\n",
    "\n",
    "while True:\n",
    "    \n",
    "    user = input('First and last name: ')\n",
    "    \n",
    "    if user == 'q':\n",
    "        break\n",
    "    else: \n",
    "        user_info = voted.get(user)\n",
    "        if user_info is None:\n",
    "            voted[user] = True\n",
    "            print(f'Let {user.title()} vote!\\n')\n",
    "        else: \n",
    "            print(f'{user.title()} has already voted-- kick them out!\\n')"
   ]
  },
  {
   "cell_type": "markdown",
   "id": "7368b29a",
   "metadata": {},
   "source": [
    "## Collisions"
   ]
  },
  {
   "cell_type": "markdown",
   "id": "cfa4ba13",
   "metadata": {},
   "source": [
    "Collisions happen when multiple values are mapped to the same key in a has table.  This can happen due to a bad hash function, and in general when this happens, the values that all point to the same key are stored in a linked list."
   ]
  },
  {
   "cell_type": "markdown",
   "id": "cc624fbc",
   "metadata": {},
   "source": [
    "## Performance"
   ]
  },
  {
   "cell_type": "markdown",
   "id": "f77aacf2",
   "metadata": {},
   "source": [
    "In reality, hash lookups are not instantaneous; rather, their time complexity is O(1), meaning constant time.  This means that regardless of the size of the hash table, the lookup will be the same. However, under the worst case scenario, it would take O(n) to perform hash table operations and this is influenced by the hash function and the load factor.  \n",
    "\n",
    "The load factor is the number of keys that are loaded onto each index in an array of values.  More information about the load factor can be found [here](https://www.geeksforgeeks.org/load-factor-and-rehashing/).  If the load factor is low, there are relatively few values at each index, so we won't have to traverse a linked list.  At worst though, if the load factor is high, it means we'll have to traverse a lenghty linked list with O(n) time complexity."
   ]
  },
  {
   "cell_type": "markdown",
   "id": "62058225",
   "metadata": {},
   "source": [
    "Hash tables store data in arrays and we can calculate the load factor by dividing the number of occupied positions in the array by the total number of positions in the array.  For example, the load factor for the following 3-element array `[ ,30, ]` would be 1/3, because only 1 out of the 3 total positions are occupied."
   ]
  },
  {
   "cell_type": "markdown",
   "id": "8f1d750e",
   "metadata": {},
   "source": [
    "When the load factor is greater than 1, that means that there are more items in the array than total slots.  In these cases, we can increase the size of the array (resizing) and then re-hash the contents of the array.  The textbook recommends resizing when the load factor is greater than 0.7."
   ]
  },
  {
   "cell_type": "markdown",
   "id": "a2045a87",
   "metadata": {},
   "source": [
    "The other piece to hash table performance is the hash function, which will ideally distribute the values evenly throughout the array to avoid collisions.  A bad hash function will be biased to produce the same hashes for different strings, which will force us to store data in a linked list for values mapped to the same keys."
   ]
  },
  {
   "cell_type": "markdown",
   "id": "1f67cfa1",
   "metadata": {},
   "source": [
    "## Exercises"
   ]
  },
  {
   "cell_type": "markdown",
   "id": "9c953a8e",
   "metadata": {},
   "source": [
    "For this set of exercises, we need to compare four different hash functions: 1) return \"1\" for all input; 2) use the length of the string as the index; 3) use the first character of the string as the index; and 4) map every letter to a prime number, sum the integers and modulo the hash size.  To compare each of these in the exercise questions, let's build each of the hash functions."
   ]
  },
  {
   "cell_type": "code",
   "execution_count": 31,
   "id": "d3ded494",
   "metadata": {},
   "outputs": [],
   "source": [
    "# Return 1 for all input\n",
    "def constant_hash(string):\n",
    "    \"\"\"Hash function that returns 1 for all input.\"\"\"\n",
    "    return 1"
   ]
  },
  {
   "cell_type": "code",
   "execution_count": 32,
   "id": "69fadac2",
   "metadata": {},
   "outputs": [],
   "source": [
    "# Test\n",
    "assert constant_hash('some_string') == 1, 'Hash should be 1.'"
   ]
  },
  {
   "cell_type": "code",
   "execution_count": 35,
   "id": "e9ba71ac",
   "metadata": {},
   "outputs": [],
   "source": [
    "# Return the length of the string as the index\n",
    "def length_hash(string):\n",
    "    \"\"\"Hash function that returns the length of the string as the index.\"\"\"\n",
    "    return len(string)\n",
    "        "
   ]
  },
  {
   "cell_type": "code",
   "execution_count": 36,
   "id": "7c868dc7",
   "metadata": {},
   "outputs": [],
   "source": [
    "# Test \n",
    "assert length_hash('some_string') == 11, 'Hash should be 11.'"
   ]
  },
  {
   "cell_type": "code",
   "execution_count": 38,
   "id": "ab929b66",
   "metadata": {},
   "outputs": [],
   "source": [
    "# Use the first character of the string as the index\n",
    "def first_char_hash(string):\n",
    "    \"\"\"Hash function that returns the first character of the string as the index.\"\"\"\n",
    "    return string[0]"
   ]
  },
  {
   "cell_type": "code",
   "execution_count": 43,
   "id": "7213777e",
   "metadata": {},
   "outputs": [
    {
     "name": "stdout",
     "output_type": "stream",
     "text": [
      "Contents of hash table:\n",
      "Key: a\n",
      "Values: ['apple', 'avocado']\n",
      "\n",
      "Key: o\n",
      "Values: ['orange']\n",
      "\n",
      "Key: p\n",
      "Values: ['pear', 'peach']\n",
      "\n",
      "Key: b\n",
      "Values: ['banana']\n",
      "\n",
      "Key: k\n",
      "Values: ['kiwi']\n",
      "\n",
      "Key: m\n",
      "Values: ['mango']\n",
      "\n"
     ]
    }
   ],
   "source": [
    "# Test\n",
    "assert first_char_hash('some_string') == 's', 'Hash should be s.'\n",
    "\n",
    "# Test with a series of inputs\n",
    "strings = ['apple', 'avocado', 'orange', 'pear', \n",
    "          'banana', 'kiwi', 'peach', 'mango']\n",
    "\n",
    "string_dict = {}\n",
    "for string in strings: \n",
    "    dict_key = first_char_hash(string) # generate hash\n",
    "    if string_dict.get(dict_key) is None:\n",
    "        # if not in the dictionary, create a list as the value and add the string to it\n",
    "        string_dict[dict_key] = [string]\n",
    "    else: \n",
    "        # If it's already in the dictionary, append the string to the value list\n",
    "        string_dict[dict_key].append(string)\n",
    "        \n",
    "# Print the contents of the dictionary\n",
    "print('Contents of hash table:')\n",
    "for key, val in string_dict.items():\n",
    "    print(f'Key: {key}\\nValues: {val}\\n')"
   ]
  },
  {
   "cell_type": "code",
   "execution_count": 69,
   "id": "968787db",
   "metadata": {},
   "outputs": [],
   "source": [
    "# Define function to check for prime numbers\n",
    "def check_prime(num):\n",
    "    \"\"\"\n",
    "    Check if a number is prime or not.\n",
    "    A prime number is a number greater than 1 that is only divisible by 1 and itself.\n",
    "    If a number is prime, we return True.\n",
    "    If it is not prime, we return False.\n",
    "    \"\"\"\n",
    "    \n",
    "    prime_flag = 0\n",
    "    \n",
    "    if num > 1:\n",
    "        for i in range(2, int(num / 2) + 1):\n",
    "            if num % i == 0:\n",
    "                prime_flag = 1 # switch the prime flag if divisible by any number other than 1 or itself\n",
    "                break\n",
    "        if prime_flag == 0:\n",
    "            return True # if prime flag hasn't switched, it's prime\n",
    "        else: \n",
    "            return False\n",
    "                \n",
    "    else: \n",
    "        return False"
   ]
  },
  {
   "cell_type": "code",
   "execution_count": 84,
   "id": "5a06ac34",
   "metadata": {},
   "outputs": [],
   "source": [
    "# Prime number hash function\n",
    "def prime_num_hash(string, hash_size):\n",
    "    \"\"\"\n",
    "    Map every letter to a prime number, sum all numbers, modulo the size of the hash.\n",
    "    \"\"\"\n",
    "    \n",
    "    # Build letters list\n",
    "    letters = ['a', 'b', 'c', 'd', 'e', 'f', 'g', \n",
    "              'h', 'i', 'j', 'k', 'l', 'm', 'n', \n",
    "              'o', 'p', 'q', 'r', 's', 't', 'u', \n",
    "              'v', 'w', 'x', 'y', 'z']\n",
    "    \n",
    "    # Build list of primes\n",
    "    primes = []\n",
    "    num = 1\n",
    "    \n",
    "    while True: \n",
    "        check = check_prime(num)\n",
    "        if check is True:\n",
    "            primes.append(num)\n",
    "        num += 1\n",
    "        \n",
    "        if len(primes) <= len(letters):\n",
    "            continue\n",
    "        else:\n",
    "            break\n",
    "    \n",
    "    # Build letter hash table\n",
    "    lookup_dict = {}\n",
    "    for letter, prime_num in zip(letters, primes):\n",
    "        lookup_dict[letter] = prime_num\n",
    "    \n",
    "    # Create list of integers from lookup dictionary\n",
    "    index_list = []\n",
    "    for s in string:\n",
    "        index_list.append(lookup_dict.get(s))\n",
    "    \n",
    "    # Return single index hash\n",
    "    index = sum(index_list) % hash_size\n",
    "    return index"
   ]
  },
  {
   "cell_type": "code",
   "execution_count": 86,
   "id": "7e52be98",
   "metadata": {},
   "outputs": [],
   "source": [
    "# Test with hash size of 10\n",
    "assert prime_num_hash('bag', 10) # True"
   ]
  },
  {
   "cell_type": "markdown",
   "id": "0bb3fc0d",
   "metadata": {},
   "source": [
    "Now that we've built all of the hash functions, we want to find the best one for each of the examples below.  The best hash function will provide a good distribution, such that the keys aren't all mapped to the same position in the hash table.  "
   ]
  },
  {
   "cell_type": "markdown",
   "id": "529956d5",
   "metadata": {},
   "source": [
    "**5.5) Phonebook where the keys are names and values are phone numbers.  The names are Esther, Ben, Bob, and Dan.**\n",
    "\n",
    "Right off the bat, the first hash function `constant_hash()` will always map all of the names to the same slot.\n",
    "\n",
    "Now let's look at the second hash function, `length_hash()`."
   ]
  },
  {
   "cell_type": "code",
   "execution_count": 90,
   "id": "763e362a",
   "metadata": {},
   "outputs": [
    {
     "name": "stdout",
     "output_type": "stream",
     "text": [
      "Key: 6\n",
      "Values: ['esther']\n",
      "\n",
      "Key: 3\n",
      "Values: ['ben', 'bob', 'dan']\n",
      "\n"
     ]
    }
   ],
   "source": [
    "names = ['esther', 'ben', 'bob', 'dan']\n",
    "names_dict = {}\n",
    "\n",
    "for name in names:\n",
    "    name_hash = length_hash(name)\n",
    "    if names_dict.get(name_hash) is None:\n",
    "        names_dict[name_hash] = [name]\n",
    "    else:\n",
    "        names_dict[name_hash].append(name)\n",
    "        \n",
    "for key, val in names_dict.items():\n",
    "    print(f'Key: {key}\\nValues: {val}\\n')"
   ]
  },
  {
   "cell_type": "markdown",
   "id": "28343282",
   "metadata": {},
   "source": [
    "This function did a little better, but we still end up with three names mapped to the same location.  Let's try the third hash function."
   ]
  },
  {
   "cell_type": "code",
   "execution_count": 91,
   "id": "02cd96ab",
   "metadata": {},
   "outputs": [
    {
     "name": "stdout",
     "output_type": "stream",
     "text": [
      "Key: e\n",
      "Values: ['esther']\n",
      "\n",
      "Key: b\n",
      "Values: ['ben', 'bob']\n",
      "\n",
      "Key: d\n",
      "Values: ['dan']\n",
      "\n"
     ]
    }
   ],
   "source": [
    "names_dict = {}\n",
    "\n",
    "for name in names:\n",
    "    name_hash = first_char_hash(name)\n",
    "    if names_dict.get(name_hash) is None:\n",
    "        names_dict[name_hash] = [name]\n",
    "    else:\n",
    "        names_dict[name_hash].append(name)\n",
    "        \n",
    "for key, val in names_dict.items():\n",
    "    print(f'Key: {key}\\nValues: {val}\\n')"
   ]
  },
  {
   "cell_type": "markdown",
   "id": "741cc9f0",
   "metadata": {},
   "source": [
    "As expected, this function did slightly better than the last, but still ends up mapping two values to the same location.  Finally for the fourth and final fucntion."
   ]
  },
  {
   "cell_type": "code",
   "execution_count": 93,
   "id": "5c2234fb",
   "metadata": {},
   "outputs": [
    {
     "name": "stdout",
     "output_type": "stream",
     "text": [
      "Key: 0\n",
      "Values: ['esther']\n",
      "\n",
      "Key: 7\n",
      "Values: ['ben']\n",
      "\n",
      "Key: 3\n",
      "Values: ['bob']\n",
      "\n",
      "Key: 2\n",
      "Values: ['dan']\n",
      "\n"
     ]
    }
   ],
   "source": [
    "names_dict = {}\n",
    "\n",
    "for name in names:\n",
    "    name_hash = prime_num_hash(name, 10)\n",
    "    if names_dict.get(name_hash) is None:\n",
    "        names_dict[name_hash] = [name]\n",
    "    else:\n",
    "        names_dict[name_hash].append(name)\n",
    "        \n",
    "for key, val in names_dict.items():\n",
    "    print(f'Key: {key}\\nValues: {val}\\n')"
   ]
  },
  {
   "cell_type": "markdown",
   "id": "35448460",
   "metadata": {},
   "source": [
    "As expected, the most complex out of the hash functions we've built is the best in terms of distribution with this simple example."
   ]
  },
  {
   "cell_type": "markdown",
   "id": "4c8b69cd",
   "metadata": {},
   "source": [
    "**5.6) A mapping from battery size to power (A, AA, AAA, AAAA).**\n",
    "\n",
    "In this example, `constant_hash()` and `length_hash()` will both produce the same result-- all mappings will be to the same location.  `first_char_hash()` and `prime_num_hash()` would provide good distribution here."
   ]
  },
  {
   "cell_type": "markdown",
   "id": "2dc7d3ff",
   "metadata": {},
   "source": [
    "**5.7) A mapping from book titles to authors (Maus, Fun, Home, and Watchmen**\n",
    "\n",
    "Here, the first function will be the worst (as is always the case).  The `length_hash()` and `first_char_hash()` functions will work well, but now we may run into a problem with `prime_num_hash()` if our hash size is 10.  Let's check."
   ]
  },
  {
   "cell_type": "code",
   "execution_count": 96,
   "id": "c74bc50b",
   "metadata": {},
   "outputs": [
    {
     "name": "stdout",
     "output_type": "stream",
     "text": [
      "Key: 3\n",
      "Values: ['maus']\n",
      "\n",
      "Key: 9\n",
      "Values: ['fun']\n",
      "\n",
      "Key: 8\n",
      "Values: ['home']\n",
      "\n",
      "Key: 5\n",
      "Values: ['watchmen']\n",
      "\n"
     ]
    }
   ],
   "source": [
    "titles = ['maus', 'fun', 'home', 'watchmen']\n",
    "titles_dict = {}\n",
    "\n",
    "for title in titles:\n",
    "    title_hash = prime_num_hash(title, 10)\n",
    "    if titles_dict.get(title_hash) is None:\n",
    "        titles_dict[title_hash] = [title]\n",
    "    else:\n",
    "        titles_dict[title_hash].append(title)\n",
    "        \n",
    "for key, val in titles_dict.items():\n",
    "    print(f'Key: {key}\\nValues: {val}\\n')"
   ]
  },
  {
   "cell_type": "markdown",
   "id": "15b010c5",
   "metadata": {},
   "source": [
    "Turns out that this function will also work well here and we won't need to worry about resizing."
   ]
  },
  {
   "cell_type": "code",
   "execution_count": null,
   "id": "7e1cf426",
   "metadata": {},
   "outputs": [],
   "source": []
  }
 ],
 "metadata": {
  "kernelspec": {
   "display_name": "Python 3 (ipykernel)",
   "language": "python",
   "name": "python3"
  },
  "language_info": {
   "codemirror_mode": {
    "name": "ipython",
    "version": 3
   },
   "file_extension": ".py",
   "mimetype": "text/x-python",
   "name": "python",
   "nbconvert_exporter": "python",
   "pygments_lexer": "ipython3",
   "version": "3.9.7"
  }
 },
 "nbformat": 4,
 "nbformat_minor": 5
}
