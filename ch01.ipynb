{
 "cells": [
  {
   "cell_type": "markdown",
   "id": "488b5db9",
   "metadata": {},
   "source": [
    "# Chapter 1"
   ]
  },
  {
   "cell_type": "markdown",
   "id": "1556c9c1",
   "metadata": {},
   "source": [
    "This chapter introduces Big O notation, the binary search algorithm, and designing algorithms with recursion."
   ]
  },
  {
   "cell_type": "code",
   "execution_count": 1,
   "id": "7a9c3cfb",
   "metadata": {},
   "outputs": [],
   "source": [
    "# Setup\n",
    "import math\n",
    "import numpy as np"
   ]
  },
  {
   "cell_type": "markdown",
   "id": "71510830",
   "metadata": {},
   "source": [
    "## Binary search"
   ]
  },
  {
   "cell_type": "markdown",
   "id": "6c90e12c",
   "metadata": {},
   "source": [
    "The basic concept of binary search is that you eliminate half of the search space for each step, or iteration, of the algorithm.  We can calculate the maximum number of steps in a binary search algorithm using the code below.  "
   ]
  },
  {
   "cell_type": "code",
   "execution_count": 2,
   "id": "fdd125df",
   "metadata": {},
   "outputs": [
    {
     "name": "stdout",
     "output_type": "stream",
     "text": [
      "Step: 1, number: 100\n",
      "Step: 2, number: 50\n",
      "Step: 3, number: 25\n",
      "Step: 4, number: 12\n",
      "Step: 5, number: 6\n",
      "Step: 6, number: 3\n",
      "Step: 7, number: 1\n"
     ]
    }
   ],
   "source": [
    "# Calculate max number of steps \n",
    "x = 100 # total number of items\n",
    "i = 1 # counter\n",
    "while x > 0:\n",
    "    print(f'Step: {i}, number: {x}')\n",
    "    i += 1\n",
    "    x = x // 2 # use integer division"
   ]
  },
  {
   "cell_type": "markdown",
   "id": "49239570",
   "metadata": {},
   "source": [
    "We recreated the total number of steps in the first example from the book.  If we had 100 total numbers, and our friend wants us to guess which number they are thinking of, we'd find the number in at most 7 steps.  For the next example, we're asked to look for a word in a dictionary that contains 240,000 words.  Let's calculate the total number of steps that it could take to find the number if we used binary search."
   ]
  },
  {
   "cell_type": "code",
   "execution_count": 6,
   "id": "b0f19ac4",
   "metadata": {},
   "outputs": [
    {
     "name": "stdout",
     "output_type": "stream",
     "text": [
      "Step: 1, number: 240000\n",
      "Step: 2, number: 120000\n",
      "Step: 3, number: 60000\n",
      "Step: 4, number: 30000\n",
      "Step: 5, number: 15000\n",
      "Step: 6, number: 7500\n",
      "Step: 7, number: 3750\n",
      "Step: 8, number: 1875\n",
      "Step: 9, number: 937\n",
      "Step: 10, number: 468\n",
      "Step: 11, number: 234\n",
      "Step: 12, number: 117\n",
      "Step: 13, number: 58\n",
      "Step: 14, number: 29\n",
      "Step: 15, number: 14\n",
      "Step: 16, number: 7\n",
      "Step: 17, number: 3\n",
      "Step: 18, number: 1\n"
     ]
    }
   ],
   "source": [
    "# Dictionary has 240,000 words\n",
    "words = 240_000\n",
    "i = 1 \n",
    "while words > 0:\n",
    "    print(f'Step: {i}, number: {words}')\n",
    "    i += 1\n",
    "    words = words // 2"
   ]
  },
  {
   "cell_type": "markdown",
   "id": "9adf72bf",
   "metadata": {},
   "source": [
    "At most, this would take 18 steps using binary search, compared with 240,000 possible steps if we used a simple search and tried each word.  Because we're halving the search space with each step, binary search will take log2(n) steps to run, at most.  Let's verify using the two examples above."
   ]
  },
  {
   "cell_type": "code",
   "execution_count": 11,
   "id": "05a3407f",
   "metadata": {},
   "outputs": [
    {
     "data": {
      "text/plain": [
       "7"
      ]
     },
     "execution_count": 11,
     "metadata": {},
     "output_type": "execute_result"
    }
   ],
   "source": [
    "# 100 numbers\n",
    "round(math.log(100, 2))"
   ]
  },
  {
   "cell_type": "code",
   "execution_count": 12,
   "id": "9573fbe6",
   "metadata": {},
   "outputs": [
    {
     "data": {
      "text/plain": [
       "18"
      ]
     },
     "execution_count": 12,
     "metadata": {},
     "output_type": "execute_result"
    }
   ],
   "source": [
    "# 240,000 words\n",
    "round(math.log(240_000, 2))"
   ]
  },
  {
   "cell_type": "markdown",
   "id": "457b9e2c",
   "metadata": {},
   "source": [
    "In the next code chunk, we'll build a binary search function that takes an array and an item to search for.  I've made a few modifications to the function-- first, I've added a counter, `i`, in order to keep track of the number of steps to find the item.  Second, I've added several `print` statements throughout the program to walk my way through the course of the binary search."
   ]
  },
  {
   "cell_type": "code",
   "execution_count": 3,
   "id": "4e2e6d5a",
   "metadata": {},
   "outputs": [],
   "source": [
    "def binary_search(array, item):\n",
    "    \"\"\"\n",
    "    Implement binary search to look for an item in an array.\n",
    "    If the item is in the array, return the item's position.\n",
    "    If the item is not in the array, return None.\n",
    "    \"\"\"\n",
    "    # Initialize starting low and high indexes and counter\n",
    "    low = 0 \n",
    "    high = len(array) - 1\n",
    "    step = 1\n",
    "    \n",
    "    while low <= high:\n",
    "        \n",
    "        # Sanity checks\n",
    "        print(f'Step: {step}')\n",
    "        print(f'Item: {item}')\n",
    "        print(f'Starting low: {low}')\n",
    "        print(f'Starting high: {high}')\n",
    "        \n",
    "        middle = (low + high) // 2 # middle index\n",
    "        print(f'Middle: {middle}')\n",
    "        guess = array[middle] # grab the item at the middle index\n",
    "        print(f'Guess: {guess}')\n",
    "        \n",
    "        # Either return the item's position or adjust search space\n",
    "        if guess == item:\n",
    "            return middle\n",
    "        \n",
    "        if guess > item:\n",
    "            high = middle - 1\n",
    "            print(f'Item < guess, new high: {high}')\n",
    "        else: \n",
    "            low = middle + 1\n",
    "            print(f'Item > guess, new low: {low}')\n",
    "        print('\\n')\n",
    "        \n",
    "        # Increment step counter\n",
    "        step += 1\n",
    "    \n",
    "    # If item is not in the list, return None\n",
    "    return None"
   ]
  },
  {
   "cell_type": "code",
   "execution_count": 37,
   "id": "068afe12",
   "metadata": {},
   "outputs": [
    {
     "name": "stdout",
     "output_type": "stream",
     "text": [
      "Step: 1\n",
      "Item: 63\n",
      "Starting low: 0\n",
      "Starting high: 100\n",
      "Middle: 50\n",
      "Guess: 50\n",
      "Item > guess, new low: 51\n",
      "\n",
      "\n",
      "Step: 2\n",
      "Item: 63\n",
      "Starting low: 51\n",
      "Starting high: 100\n",
      "Middle: 75\n",
      "Guess: 75\n",
      "Item < guess, new high: 74\n",
      "\n",
      "\n",
      "Step: 3\n",
      "Item: 63\n",
      "Starting low: 51\n",
      "Starting high: 74\n",
      "Middle: 62\n",
      "Guess: 62\n",
      "Item > guess, new low: 63\n",
      "\n",
      "\n",
      "Step: 4\n",
      "Item: 63\n",
      "Starting low: 63\n",
      "Starting high: 74\n",
      "Middle: 68\n",
      "Guess: 68\n",
      "Item < guess, new high: 67\n",
      "\n",
      "\n",
      "Step: 5\n",
      "Item: 63\n",
      "Starting low: 63\n",
      "Starting high: 67\n",
      "Middle: 65\n",
      "Guess: 65\n",
      "Item < guess, new high: 64\n",
      "\n",
      "\n",
      "Step: 6\n",
      "Item: 63\n",
      "Starting low: 63\n",
      "Starting high: 64\n",
      "Middle: 63\n",
      "Guess: 63\n"
     ]
    },
    {
     "data": {
      "text/plain": [
       "63"
      ]
     },
     "execution_count": 37,
     "metadata": {},
     "output_type": "execute_result"
    }
   ],
   "source": [
    "my_list = list(range(101))\n",
    "binary_search(my_list, 63)"
   ]
  },
  {
   "cell_type": "markdown",
   "id": "479c195e",
   "metadata": {},
   "source": [
    "## Exercises"
   ]
  },
  {
   "cell_type": "markdown",
   "id": "2faab6e8",
   "metadata": {},
   "source": [
    "1.1) What's the maximum number of steps it would take to search through a sorted list of 128 names?\n",
    "\n",
    "We know that with binary search, it will take at most log2(n) steps to find the item.  In this case, it will take at most, log2(128) steps.  Let's compute this value below."
   ]
  },
  {
   "cell_type": "code",
   "execution_count": 39,
   "id": "3c0b6bc9",
   "metadata": {},
   "outputs": [
    {
     "data": {
      "text/plain": [
       "7"
      ]
     },
     "execution_count": 39,
     "metadata": {},
     "output_type": "execute_result"
    }
   ],
   "source": [
    "# Compute maximum number of steps\n",
    "round(math.log(128, 2))"
   ]
  },
  {
   "cell_type": "markdown",
   "id": "7fb32f96",
   "metadata": {},
   "source": [
    "1.2) How many steps would it take if we doubled the size of the list?\n"
   ]
  },
  {
   "cell_type": "code",
   "execution_count": 42,
   "id": "5e6d0fa3",
   "metadata": {},
   "outputs": [
    {
     "data": {
      "text/plain": [
       "8"
      ]
     },
     "execution_count": 42,
     "metadata": {},
     "output_type": "execute_result"
    }
   ],
   "source": [
    "# Compute maximum number of steps with 128 * 2 = 256 items\n",
    "round(math.log(256, 2))"
   ]
  },
  {
   "cell_type": "markdown",
   "id": "57fd9fc0",
   "metadata": {},
   "source": [
    "Other notes on running time-- in the original simple search, the algorithm runs in linear time, or O(n), meaning the running time scales linearly with the size of the problem.  In contrast, the binary search algorithm runs in logarithmic (base 2) time, or O(log2 n).  Let's verify that the example provided in the book that it takes at most 32 guesses to find a number in a list of 4 billion numbers."
   ]
  },
  {
   "cell_type": "code",
   "execution_count": 43,
   "id": "69de8788",
   "metadata": {},
   "outputs": [
    {
     "data": {
      "text/plain": [
       "32"
      ]
     },
     "execution_count": 43,
     "metadata": {},
     "output_type": "execute_result"
    }
   ],
   "source": [
    "round(math.log(4_000_000_000, 2))"
   ]
  },
  {
   "cell_type": "markdown",
   "id": "7fa53210",
   "metadata": {},
   "source": [
    "As another exercise, let's say we wanted to search through an entire directory of all of the names of the humans alive on Earth today.  By the latest statistics (found [here](https://www.google.com/search?q=earth+population&oq=earth+population&aqs=chrome.0.0i433i512l2j0i512l8.1834j0j9&sourceid=chrome&ie=UTF-8), there are approximately 7.7 billion people.  Let's say we wanted to look up some person's information, but we need to look up their name first.  Let's find how many steps at most it would take to find the person's name and get their information."
   ]
  },
  {
   "cell_type": "code",
   "execution_count": 44,
   "id": "a4eef758",
   "metadata": {},
   "outputs": [
    {
     "data": {
      "text/plain": [
       "33"
      ]
     },
     "execution_count": 44,
     "metadata": {},
     "output_type": "execute_result"
    }
   ],
   "source": [
    "round(math.log(7_700_000_000, 2))"
   ]
  },
  {
   "cell_type": "markdown",
   "id": "6028d2d9",
   "metadata": {},
   "source": [
    "Using binary search, it would take **at most** only 33 tries to find the person's name and get their information."
   ]
  },
  {
   "cell_type": "markdown",
   "id": "ffc7d2cc",
   "metadata": {},
   "source": [
    "## Big O notation"
   ]
  },
  {
   "cell_type": "markdown",
   "id": "0b84d05b",
   "metadata": {},
   "source": [
    "Big O notation describes how algorithm running time increases with the size of the problem.  It can also be thought of as the running time of an algorithm in the worst case scenario.\n",
    "\n",
    "We can estimate the time it would take both algorithms to run, assuming that each step takes 1 ms."
   ]
  },
  {
   "cell_type": "code",
   "execution_count": 4,
   "id": "54a9076f",
   "metadata": {},
   "outputs": [
    {
     "name": "stdout",
     "output_type": "stream",
     "text": [
      "Time with simple search:\n",
      "1000000000 ms\n",
      "\n",
      "Time with binary search:\n",
      "30 ms\n"
     ]
    }
   ],
   "source": [
    "# Simple search\n",
    "num_elements = 1_000_000_000\n",
    "print(f'Time with simple search:\\n{num_elements * 1} ms\\n')\n",
    "\n",
    "# Binary search\n",
    "binary_search_time = round(math.log(num_elements, 2))\n",
    "print(f'Time with binary search:\\n{binary_search_time} ms')"
   ]
  },
  {
   "cell_type": "markdown",
   "id": "2f322878",
   "metadata": {},
   "source": [
    "The code below computes the time it would take to draw 1,024 boxes using the simple search algorithm with O(n) time and binary search with O(log n) time.  Each operation takes approximately 0.1 seconds to complete."
   ]
  },
  {
   "cell_type": "code",
   "execution_count": 13,
   "id": "f2f66267",
   "metadata": {},
   "outputs": [
    {
     "name": "stdout",
     "output_type": "stream",
     "text": [
      "Time for 1024 operations with simple search:\n",
      "102.4 seconds.\n",
      "\n",
      "Time for 1024 operations with binary search:\n",
      "1.0 s\n"
     ]
    }
   ],
   "source": [
    "# Simple search\n",
    "num_operations = 1024\n",
    "print(f'Time for {num_operations} operations with simple search:\\n{num_operations * 0.1} seconds.\\n')\n",
    "\n",
    "# Binary search\n",
    "binary_search_time = round(math.log(num_operations, 2)) * 0.1\n",
    "print(f'Time for {num_operations} operations with binary search:\\n{binary_search_time} s')"
   ]
  },
  {
   "cell_type": "markdown",
   "id": "72061bdd",
   "metadata": {},
   "source": [
    "## Exercises\n",
    "\n"
   ]
  },
  {
   "cell_type": "markdown",
   "id": "636685d3",
   "metadata": {},
   "source": [
    "For each of the exercises below, give the run time for each in terms of Big O."
   ]
  },
  {
   "cell_type": "markdown",
   "id": "a52034b6",
   "metadata": {},
   "source": [
    "1.3) You have a name, and you want to find the person's phone number in the phone book.\n",
    "\n",
    "Assuming we're sorting through a dictionary of similar type of data structure, the best we could hope to achieve is O(log n) with binary search.  However, if the data are stored in a dictionary, the run time is actually O(1) according to the official Python documentation.  In other words, the run time is constant, regardless of the number of items in the dictionary.  There are some details regarding the hash function to consider, but are outside of the scope of this chapter."
   ]
  },
  {
   "cell_type": "markdown",
   "id": "b880fa14",
   "metadata": {},
   "source": [
    "1.4) You have a phone number, and you want to find the person's name in the phone book.\n",
    "\n",
    "In this situation, we could just use the phone number as a key in the dictionary and the name as the value.  Thus, the time complexity would still be O(1).  However, the answer in the textbook is given as O(n)."
   ]
  },
  {
   "cell_type": "markdown",
   "id": "63621e6e",
   "metadata": {},
   "source": [
    "1.5) You want to read the numbers of every person in the phone book.\n",
    "\n",
    "Here, at most, the time complexity would be O(n), because we're not just searching for something; we're performing some operation on each person in the book."
   ]
  },
  {
   "cell_type": "markdown",
   "id": "bdf525db",
   "metadata": {},
   "source": [
    "## Traveling salesperson"
   ]
  },
  {
   "cell_type": "markdown",
   "id": "d28c51d8",
   "metadata": {},
   "source": [
    "This demonstrates the algorithm with time complexity of O(n!).  In the textbook, the author uses an example where the salesperson must travel to 5 cities, and the need to evaluate all possible routes they could take in order to find the route with the shortest total distance traveled.  In order to find all permutations, we use 5!:"
   ]
  },
  {
   "cell_type": "code",
   "execution_count": 15,
   "id": "44a5151e",
   "metadata": {},
   "outputs": [
    {
     "name": "stdout",
     "output_type": "stream",
     "text": [
      "With 5 cities, there are 120 permutations to consider.\n"
     ]
    }
   ],
   "source": [
    "print(f'With {5} cities, there are {math.factorial(5)} permutations to consider.')"
   ]
  },
  {
   "cell_type": "markdown",
   "id": "f8b4753c",
   "metadata": {},
   "source": [
    "We can see how the size of this problem scales with just a few additional cities added to the route.\n"
   ]
  },
  {
   "cell_type": "code",
   "execution_count": 16,
   "id": "8d29d5f2",
   "metadata": {},
   "outputs": [
    {
     "name": "stdout",
     "output_type": "stream",
     "text": [
      "With 10 cities, there are 3628800 permutations to consider.\n"
     ]
    }
   ],
   "source": [
    "print(f'With {10} cities, there are {math.factorial(10)} permutations to consider.')"
   ]
  },
  {
   "cell_type": "markdown",
   "id": "425cbd06",
   "metadata": {},
   "source": [
    "That's over 3 million permutations to consider, and with the addition of even more cities, the problem essentially becomes impossible to solve.  In later chapters, we'll cover greedy algorithms, which basically try to get a good approximation for a problem like this."
   ]
  },
  {
   "cell_type": "code",
   "execution_count": null,
   "id": "b143393f",
   "metadata": {},
   "outputs": [],
   "source": []
  }
 ],
 "metadata": {
  "kernelspec": {
   "display_name": "Python 3 (ipykernel)",
   "language": "python",
   "name": "python3"
  },
  "language_info": {
   "codemirror_mode": {
    "name": "ipython",
    "version": 3
   },
   "file_extension": ".py",
   "mimetype": "text/x-python",
   "name": "python",
   "nbconvert_exporter": "python",
   "pygments_lexer": "ipython3",
   "version": "3.9.7"
  }
 },
 "nbformat": 4,
 "nbformat_minor": 5
}
