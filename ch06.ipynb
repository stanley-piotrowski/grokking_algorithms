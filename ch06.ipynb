{
 "cells": [
  {
   "cell_type": "markdown",
   "id": "e82d7b62",
   "metadata": {},
   "source": [
    "# Chapter 6: breadth-first search"
   ]
  },
  {
   "cell_type": "markdown",
   "id": "c5758aa5",
   "metadata": {},
   "source": [
    "This chapter introduces graphs, breadth-first search, and topological sort.  Put simply, breadth-first search aims to find a solution to the shortest-path problem."
   ]
  },
  {
   "cell_type": "markdown",
   "id": "f38ce80d",
   "metadata": {},
   "source": [
    "## What is a graph"
   ]
  },
  {
   "cell_type": "markdown",
   "id": "6cc6864b",
   "metadata": {},
   "source": [
    "Graphs model connections between nodes and edges-- the nodes are items, and the edges are the lines connecting the items."
   ]
  },
  {
   "cell_type": "markdown",
   "id": "e145ce2a",
   "metadata": {},
   "source": [
    "## Breadth-first search"
   ]
  },
  {
   "cell_type": "markdown",
   "id": "a755f683",
   "metadata": {},
   "source": [
    "Breadth-first search can be used to answer two main question-- 1) is there a path from node A to node B; and 2) if a path exists between node A and node B, what's the shortest path?"
   ]
  },
  {
   "cell_type": "markdown",
   "id": "0d5b407f",
   "metadata": {},
   "source": [
    "In answering the first question- is there a path from node A to node B- we first check all of the first-degree connections before checking second-degree connections, etc.  Consequently, the order by which you you add people to search through matters. "
   ]
  },
  {
   "cell_type": "markdown",
   "id": "21394371",
   "metadata": {},
   "source": [
    "In breadth-first search, because we're going to be searching broadly and checking all of the first-degree connections before others, we'll use a data structure called a queue.  A queue is similar to a stack that we looked at in previous chapters to understand how recursive functions are handled behind the scenes-- items are stored one on top of another and we are not able to access a random element in the data structure.  However, unlike a stack, which operates using LIFO (last in, first out), a queue works on FIFO (first in, first out).  "
   ]
  },
  {
   "cell_type": "markdown",
   "id": "2e9aca52",
   "metadata": {},
   "source": [
    "With stacks, the only operations we would do were push and pop to \"push\" items onto and \"pop\" items off of the stack.  In contrast, with queues, we only have the enqueue and dequeue operations to add items to the end of the queue and remove items from the start of the queue, respectively.  "
   ]
  },
  {
   "cell_type": "markdown",
   "id": "cf697067",
   "metadata": {},
   "source": [
    "## Exercises\n"
   ]
  },
  {
   "cell_type": "markdown",
   "id": "ff711c47",
   "metadata": {},
   "source": [
    "**6.1) Find the length of the shortest path from start to finish.**\n",
    "\n",
    "The length of the shortest path with this example is 2."
   ]
  },
  {
   "cell_type": "markdown",
   "id": "cf5da637",
   "metadata": {},
   "source": [
    "**6.2) Find the length of the shortest path from \"cab\" to \"bat\".**\n",
    "\n",
    "The length of the shortest path here is also 2-- \"cab\" to \"cat\" to \"bat\" (finish)."
   ]
  },
  {
   "cell_type": "markdown",
   "id": "b777b552",
   "metadata": {},
   "source": [
    "## Implementing the graph"
   ]
  },
  {
   "cell_type": "markdown",
   "id": "300e1c14",
   "metadata": {},
   "source": [
    "We can implement a graph using a hash table-- the key denotes \"you\" or the starting point, and we can include an array of first-degree neighbors as the values."
   ]
  },
  {
   "cell_type": "code",
   "execution_count": 1,
   "id": "facf8d57",
   "metadata": {},
   "outputs": [],
   "source": [
    "# Implement the graph using a hash table\n",
    "graph = {}\n",
    "graph['you'] = ['alice', 'bob', 'claire']\n",
    "\n",
    "# Add neighbors for bob\n",
    "graph['bob'] = ['anuj', 'peggy']\n",
    "\n",
    "# Add neighbors for alice\n",
    "graph['alice'] = ['peggy']\n",
    "\n",
    "# Add neighbors for claire\n",
    "graph['claire'] = ['thom', 'jonny']\n",
    "\n",
    "# Add empty neighbor arrays \n",
    "graph['anuj'] = []\n",
    "graph['peggy'] = []\n",
    "graph['jonny'] = []\n",
    "graph['thom'] = []"
   ]
  },
  {
   "cell_type": "markdown",
   "id": "4d20a36d",
   "metadata": {},
   "source": [
    "The answer to the pop quiz is no, it doesn't matter because hash tables are unordered, unlike arrays.\n"
   ]
  },
  {
   "cell_type": "markdown",
   "id": "b761aaf3",
   "metadata": {},
   "source": [
    "## Implementing the algorithm"
   ]
  },
  {
   "cell_type": "markdown",
   "id": "80be06ad",
   "metadata": {},
   "source": [
    "We'll implement the algorithm by keeping a queue of all of the people to check.  We'll first dequeue and pop the first person off the queue and check if they are a mango seller.  If yes, we're done but if not, we add all of their neighbors to the end of the queue.  This whole process starts over in a loop until we've gone through the entire queue."
   ]
  },
  {
   "cell_type": "code",
   "execution_count": 22,
   "id": "6340154c",
   "metadata": {},
   "outputs": [
    {
     "data": {
      "text/plain": [
       "deque(['alice', 'bob', 'claire'])"
      ]
     },
     "execution_count": 22,
     "metadata": {},
     "output_type": "execute_result"
    }
   ],
   "source": [
    "# Create a double-ended queue\n",
    "import collections\n",
    "\n",
    "# Create a new queue\n",
    "search_queue = collections.deque()\n",
    "\n",
    "# Add all of your first-degree neighbors to the search queue\n",
    "search_queue += graph['you']\n",
    "\n",
    "# View the current search queue\n",
    "search_queue"
   ]
  },
  {
   "cell_type": "markdown",
   "id": "3ffe0522",
   "metadata": {},
   "source": [
    "Now we'll implement the rest of the algorithm to find the mango sellers.  We'll assume that anyone with \"m\" as the last letter in their name is a mango seller.  First, we'll build a while loop that will iterate over the queue while it isn't empty.  We'll pop a person off the front of the queue and check to see if they're a mango seller.  If they are, we'll return `True` and our job is done!  If not, we'll add that person's neighbors to the end of the queue and repeat.  I've added a few print statements to better track the people in the queue for each iteration."
   ]
  },
  {
   "cell_type": "code",
   "execution_count": 23,
   "id": "392281bf",
   "metadata": {},
   "outputs": [
    {
     "name": "stdout",
     "output_type": "stream",
     "text": [
      "----------------------------------\n",
      "\n",
      "Queue is currently: deque(['alice', 'bob', 'claire'])\n",
      "Checking if alice is a mango seller...\n",
      "alice is not a mango seller, adding their neighbors ['peggy'].\n",
      "\n",
      "----------------------------------\n",
      "\n",
      "Queue is currently: deque(['bob', 'claire', 'peggy'])\n",
      "Checking if bob is a mango seller...\n",
      "bob is not a mango seller, adding their neighbors ['anuj', 'peggy'].\n",
      "\n",
      "----------------------------------\n",
      "\n",
      "Queue is currently: deque(['claire', 'peggy', 'anuj', 'peggy'])\n",
      "Checking if claire is a mango seller...\n",
      "claire is not a mango seller, adding their neighbors ['thom', 'jonny'].\n",
      "\n",
      "----------------------------------\n",
      "\n",
      "Queue is currently: deque(['peggy', 'anuj', 'peggy', 'thom', 'jonny'])\n",
      "Checking if peggy is a mango seller...\n",
      "peggy is not a mango seller, adding their neighbors [].\n",
      "\n",
      "----------------------------------\n",
      "\n",
      "Queue is currently: deque(['anuj', 'peggy', 'thom', 'jonny'])\n",
      "Checking if anuj is a mango seller...\n",
      "anuj is not a mango seller, adding their neighbors [].\n",
      "\n",
      "----------------------------------\n",
      "\n",
      "Queue is currently: deque(['peggy', 'thom', 'jonny'])\n",
      "Checking if peggy is a mango seller...\n",
      "peggy is not a mango seller, adding their neighbors [].\n",
      "\n",
      "----------------------------------\n",
      "\n",
      "Queue is currently: deque(['thom', 'jonny'])\n",
      "Checking if thom is a mango seller...\n",
      "thom is a mango seller!\n",
      "True\n"
     ]
    }
   ],
   "source": [
    "while search_queue:\n",
    "    print('----------------------------------\\n')\n",
    "    print(f'Queue is currently: {search_queue}')\n",
    "    person = search_queue.popleft()\n",
    "    print(f'Checking if {person} is a mango seller...')\n",
    "    if person[-1] == 'm':\n",
    "        print(f'{person} is a mango seller!')\n",
    "        print(True) # if True, you're done\n",
    "        break\n",
    "    else:\n",
    "        print(f'{person} is not a mango seller, adding their neighbors {graph[person]}.\\n')\n",
    "        search_queue += graph[person]"
   ]
  },
  {
   "cell_type": "markdown",
   "id": "fbaf5d76",
   "metadata": {},
   "source": [
    "This is a good implementation, but we also need to make sure that we don't check the same person twice-- we did this with Peggy above.  We'll use the same basic structure of the algorithm we've already written, but also keep an array of people that we've already searched, sort of like setting a flag as \"visitied\" for each node in the graph."
   ]
  },
  {
   "cell_type": "code",
   "execution_count": 26,
   "id": "327e375f",
   "metadata": {},
   "outputs": [],
   "source": [
    "def bfs(name):\n",
    "    search_queue = collections.deque()\n",
    "    search_queue += graph[name]\n",
    "    searched = [] # keep track of people already searched\n",
    "    \n",
    "    while search_queue:\n",
    "        print('----------------------------------\\n')\n",
    "        print(f'Queue is currently: {list(search_queue)}')\n",
    "        person = search_queue.popleft()\n",
    "        if person not in searched:\n",
    "            print(f'Check if {person} is a mango seller')\n",
    "            if person[-1] == 'm':\n",
    "                print(f'{person} is a mango seller!')\n",
    "                return True\n",
    "            else: \n",
    "                print(f'{person} is not a mango seller, adding their neighbors {graph[person]}\\n')\n",
    "                search_queue += graph[person]\n",
    "    return False # if not in the graph, return False\n",
    "    "
   ]
  },
  {
   "cell_type": "code",
   "execution_count": 27,
   "id": "8d9e9426",
   "metadata": {},
   "outputs": [
    {
     "name": "stdout",
     "output_type": "stream",
     "text": [
      "----------------------------------\n",
      "\n",
      "Queue is currently: ['alice', 'bob', 'claire']\n",
      "Check if alice is a mango seller\n",
      "alice is not a mango seller, adding their neighbors ['peggy']\n",
      "\n",
      "----------------------------------\n",
      "\n",
      "Queue is currently: ['bob', 'claire', 'peggy']\n",
      "Check if bob is a mango seller\n",
      "bob is not a mango seller, adding their neighbors ['anuj', 'peggy']\n",
      "\n",
      "----------------------------------\n",
      "\n",
      "Queue is currently: ['claire', 'peggy', 'anuj', 'peggy']\n",
      "Check if claire is a mango seller\n",
      "claire is not a mango seller, adding their neighbors ['thom', 'jonny']\n",
      "\n",
      "----------------------------------\n",
      "\n",
      "Queue is currently: ['peggy', 'anuj', 'peggy', 'thom', 'jonny']\n",
      "Check if peggy is a mango seller\n",
      "peggy is not a mango seller, adding their neighbors []\n",
      "\n",
      "----------------------------------\n",
      "\n",
      "Queue is currently: ['anuj', 'peggy', 'thom', 'jonny']\n",
      "Check if anuj is a mango seller\n",
      "anuj is not a mango seller, adding their neighbors []\n",
      "\n",
      "----------------------------------\n",
      "\n",
      "Queue is currently: ['peggy', 'thom', 'jonny']\n",
      "Check if peggy is a mango seller\n",
      "peggy is not a mango seller, adding their neighbors []\n",
      "\n",
      "----------------------------------\n",
      "\n",
      "Queue is currently: ['thom', 'jonny']\n",
      "Check if thom is a mango seller\n",
      "thom is a mango seller!\n"
     ]
    },
    {
     "data": {
      "text/plain": [
       "True"
      ]
     },
     "execution_count": 27,
     "metadata": {},
     "output_type": "execute_result"
    }
   ],
   "source": [
    "# Test using 'you' as the start\n",
    "bfs('you')"
   ]
  },
  {
   "cell_type": "markdown",
   "id": "6a0a9db0",
   "metadata": {},
   "source": [
    "## Exercises"
   ]
  },
  {
   "cell_type": "markdown",
   "id": "e96c9bcf",
   "metadata": {},
   "source": [
    "**6.3) For the example morning routne, which of the three lists is valid or invalid?**\n",
    "\n",
    "The first list is invalid, because eating breakfast depends on brushing your teeth.  The second list is valid, because showering doesn't depend on anything else besides waking up, and brushing teeth comes before eating breakfast.  The last list is invalid, since we can't shower before we wake."
   ]
  },
  {
   "cell_type": "markdown",
   "id": "c0c968b5",
   "metadata": {},
   "source": [
    "**6.4) Below is a valid list for the graph in the textbook.**\n",
    "\n",
    "1) Wake up\n",
    "\n",
    "2) Exercise\n",
    "\n",
    "3) Brush teeth\n",
    "\n",
    "4) Pack lunch\n",
    "\n",
    "5) Shower\n",
    "\n",
    "6) Eat breakfast\n",
    "\n",
    "7) Get dressed"
   ]
  },
  {
   "cell_type": "markdown",
   "id": "154f13c9",
   "metadata": {},
   "source": [
    "**6.5) Which of the following graphs are also trees?**\n",
    "\n",
    "Trees are special types of graph where no edges ever point back.  In the examples provided, A is a tree.  C is also a tree because no edges ever point back, just presented in a slightly different way."
   ]
  },
  {
   "cell_type": "code",
   "execution_count": null,
   "id": "a7f7fa2e",
   "metadata": {},
   "outputs": [],
   "source": []
  }
 ],
 "metadata": {
  "kernelspec": {
   "display_name": "Python 3 (ipykernel)",
   "language": "python",
   "name": "python3"
  },
  "language_info": {
   "codemirror_mode": {
    "name": "ipython",
    "version": 3
   },
   "file_extension": ".py",
   "mimetype": "text/x-python",
   "name": "python",
   "nbconvert_exporter": "python",
   "pygments_lexer": "ipython3",
   "version": "3.9.7"
  }
 },
 "nbformat": 4,
 "nbformat_minor": 5
}
