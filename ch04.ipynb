{
 "cells": [
  {
   "cell_type": "markdown",
   "id": "10b4e970",
   "metadata": {},
   "source": [
    "# Chapter 4: quicksort"
   ]
  },
  {
   "cell_type": "markdown",
   "id": "819ddf15",
   "metadata": {},
   "source": [
    "This chapter focuses on the divide and conquer strategy to solve problems and introduces the quicksort algorithm, one which uses both divide and conquer and recursion to sort data faster than selection sort."
   ]
  },
  {
   "cell_type": "code",
   "execution_count": 40,
   "id": "e12e4dbe",
   "metadata": {},
   "outputs": [],
   "source": [
    "# Setup \n",
    "import math\n",
    "import random"
   ]
  },
  {
   "cell_type": "markdown",
   "id": "f93adb95",
   "metadata": {},
   "source": [
    "## Divide & conquer"
   ]
  },
  {
   "cell_type": "markdown",
   "id": "393b5ac4",
   "metadata": {},
   "source": [
    "The basic strategy of divide an conquer is to identify a simple base case and then try to work backgrounds and figure out how to reduce the original problem to the base case.  In the case of summing all numbers in an array, we can think of the simplest base case as either an empty array or an array with 1 element.  Then we can write a recursive function that continuously calls itself and sums up all of the numbers.\n",
    "\n",
    "Here's what the function could look like written with a for loop."
   ]
  },
  {
   "cell_type": "code",
   "execution_count": 3,
   "id": "d5c551a6",
   "metadata": {},
   "outputs": [],
   "source": [
    "def sum(arr):\n",
    "    \"\"\"Return the sum of an array of numbers.\"\"\"\n",
    "    total = 0\n",
    "    for num in arr:\n",
    "        total += num\n",
    "        \n",
    "    return total"
   ]
  },
  {
   "cell_type": "code",
   "execution_count": 12,
   "id": "52356cf1",
   "metadata": {},
   "outputs": [
    {
     "data": {
      "text/plain": [
       "10"
      ]
     },
     "execution_count": 12,
     "metadata": {},
     "output_type": "execute_result"
    }
   ],
   "source": [
    "# Test\n",
    "arr = list(range(1, 5))\n",
    "sum(arr)"
   ]
  },
  {
   "cell_type": "markdown",
   "id": "d304e945",
   "metadata": {},
   "source": [
    "Now we'll write the function using recursion.  We want to move closer and closer to an empty array (the base case).  To do this, we want to pop off an element for each recursive call, which will successfully reduce the problem to the base case."
   ]
  },
  {
   "cell_type": "code",
   "execution_count": 14,
   "id": "b335643a",
   "metadata": {},
   "outputs": [],
   "source": [
    "def sum_recursive(arr):\n",
    "    \"\"\"Return the sum of an array of numbers using recursion.\"\"\"\n",
    "    \n",
    "    if len(arr) == 1:\n",
    "        return arr[0] # if array is one element, return the element\n",
    "    else:\n",
    "        return arr[0] + sum_recursive(arr[1:])"
   ]
  },
  {
   "cell_type": "code",
   "execution_count": 15,
   "id": "710c4786",
   "metadata": {},
   "outputs": [
    {
     "data": {
      "text/plain": [
       "10"
      ]
     },
     "execution_count": 15,
     "metadata": {},
     "output_type": "execute_result"
    }
   ],
   "source": [
    "arr = list(range(1, 5))\n",
    "sum_recursive(arr)"
   ]
  },
  {
   "cell_type": "markdown",
   "id": "570d7a8a",
   "metadata": {},
   "source": [
    "Below I've defined how the function is working for each recursive call:\n",
    "\n",
    "**First call:**\n",
    "\n",
    "Call: `sum(arr)`\n",
    "\n",
    "`arr` = `[1, 2, 3, 4]`\n",
    "\n",
    "`len(arr) == 1` --> `False` --> proceed to recursive call\n",
    "\n",
    "\n",
    "**Second call:**\n",
    "\n",
    "Call: `arr[0] + sum(arr[1:])`\n",
    "\n",
    "Interpreted call: `1 + sum([2, 3, 4])`\n",
    "\n",
    "`arr` = `[2, 3, 4]`\n",
    "\n",
    "`len(arr) == 1` --> `False` --> proceed to recursive call\n",
    "\n",
    "**Third call:**\n",
    "\n",
    "Call: `arr[0] + sum(arr[1:])`\n",
    "\n",
    "Interpreted call: `2 + sum([3, 4])`\n",
    "\n",
    "`arr` = `[3, 4]`\n",
    "\n",
    "`len(arr) == 1` --> `False` --> proceed to recursive call\n",
    "\n",
    "**Fourth call:**\n",
    "\n",
    "Call: `arr[0] + sum(arr[1:])`\n",
    "\n",
    "Interpreted call: `3 + sum([4])`\n",
    "\n",
    "`arr` = `[4]`\n",
    "\n",
    "`len(arr) == 1` --> `True` --> `return arr[0]`"
   ]
  },
  {
   "cell_type": "markdown",
   "id": "4eb17396",
   "metadata": {},
   "source": [
    "Now working backwards, we evaluate each of the return statements (recall, last in, first out principle of call stacks)."
   ]
  },
  {
   "cell_type": "markdown",
   "id": "841cc18a",
   "metadata": {},
   "source": [
    "**Fourth call:**\n",
    "\n",
    "Interpreted call: `3 + sum([4])`\n",
    "\n",
    "Plugging in numbers: `3 + 4`\n",
    "\n",
    "Result: `7`\n",
    "\n",
    "**Third call:**\n",
    "\n",
    "Interpreted call: `2 + sum([3, 4])`\n",
    "\n",
    "Plugging in numbers: `2 + 7` \n",
    "\n",
    "Result: `9`\n",
    "\n",
    "**Second call:**\n",
    "\n",
    "Interpreted call: `1 + sum([2, 3, 4])`\n",
    "\n",
    "Plugging in numbers: `1 + 9`\n",
    "\n",
    "Result: `10`\n"
   ]
  },
  {
   "cell_type": "markdown",
   "id": "e9bf0eed",
   "metadata": {},
   "source": [
    "## Exercises"
   ]
  },
  {
   "cell_type": "markdown",
   "id": "19c9be89",
   "metadata": {},
   "source": [
    "**4.1) Write out the code for the earlier `sum` function.**\n",
    "\n",
    "See above."
   ]
  },
  {
   "cell_type": "markdown",
   "id": "5d5ad090",
   "metadata": {},
   "source": [
    "**4.2) Write a recursive function to count the number of items in an list.**\n",
    "\n",
    "Similar to the code for the `sum` function, we need to define a base case.  When the list has a single element, we return 1.  If the length of the list is not equal to one, we pass the condition for the recursive case and call the function again.  "
   ]
  },
  {
   "cell_type": "code",
   "execution_count": 24,
   "id": "8b38f9c5",
   "metadata": {},
   "outputs": [],
   "source": [
    "def count_items(arr):\n",
    "    \"\"\"Return the number of items in an array.\"\"\"\n",
    "    \n",
    "    if len(arr) == 1: # base case\n",
    "        return 1\n",
    "    else: # recursive case\n",
    "        return 1 + count_items(arr[1:]) "
   ]
  },
  {
   "cell_type": "code",
   "execution_count": 25,
   "id": "1dd79488",
   "metadata": {},
   "outputs": [
    {
     "data": {
      "text/plain": [
       "4"
      ]
     },
     "execution_count": 25,
     "metadata": {},
     "output_type": "execute_result"
    }
   ],
   "source": [
    "arr = list(range(1, 5))\n",
    "count_items(arr)"
   ]
  },
  {
   "cell_type": "markdown",
   "id": "4838108d",
   "metadata": {},
   "source": [
    "Using an example array of `[1, 2, 3, 4]`, `count_items()` should return `4`.  Let's write out how the call stack would look:"
   ]
  },
  {
   "cell_type": "markdown",
   "id": "84c87ecb",
   "metadata": {},
   "source": [
    "**First call:**\n",
    "\n",
    "`arr = [1, 2, 3, 4]`\n",
    "\n",
    "`len(arr) == 1`? --> `False` --> proceed to recursive call"
   ]
  },
  {
   "cell_type": "markdown",
   "id": "e5d8d6d5",
   "metadata": {},
   "source": [
    "**Second call:**\n",
    "\n",
    "`arr = [2, 3, 4]`\n",
    "\n",
    "`len(arr) == 1` --> `False` --> proceed to recursive call"
   ]
  },
  {
   "cell_type": "markdown",
   "id": "cf66fca1",
   "metadata": {},
   "source": [
    "**Third call:**\n",
    "\n",
    "`arr = [3, 4]`\n",
    "\n",
    "`len(arr) == 1` --> `False` --> proceed to recursive call"
   ]
  },
  {
   "cell_type": "markdown",
   "id": "a8c5d991",
   "metadata": {},
   "source": [
    "**Fourth call:**\n",
    "\n",
    "`arr = [4]`\n",
    "\n",
    "`len(arr) == 1` --> `True` --> `return 1`"
   ]
  },
  {
   "cell_type": "markdown",
   "id": "7417bf14",
   "metadata": {},
   "source": [
    "Now working backwards with `return` statements from the fourth call to the first:"
   ]
  },
  {
   "cell_type": "markdown",
   "id": "2bf283ed",
   "metadata": {},
   "source": [
    "**Fourth call:**\n",
    "\n",
    "Interpreted call: `1 + count_items([4])`\n",
    "\n",
    "Plugging in numbers: `1 + 1`\n",
    "\n",
    "Result: `2`"
   ]
  },
  {
   "cell_type": "markdown",
   "id": "0d06e41a",
   "metadata": {},
   "source": [
    "**Third call:**\n",
    "\n",
    "Interpreted call: `1 + count_items([3, 4])`\n",
    "\n",
    "Plugging in numbers: `1 + 2`\n",
    "\n",
    "Result: `3`\n"
   ]
  },
  {
   "cell_type": "markdown",
   "id": "0ffd959a",
   "metadata": {},
   "source": [
    "**Second call:**\n",
    "\n",
    "Interpreted call: `1 + count_items([2, 3, 4])`\n",
    "\n",
    "Plugging in numbers: `1 + 3`\n",
    "\n",
    "Result: `4`"
   ]
  },
  {
   "cell_type": "markdown",
   "id": "19fddb00",
   "metadata": {},
   "source": [
    "**4.3) Find the maximum number in a list.**\n",
    "\n",
    "We'll write a recursive function to solve this problem as well.  The base case will be when we only have a single element in the array, in which case we'll return that element.  We'll need the recursive function to then break down or reduce the input array slightly such that each time we hit the recursive case and the function is called again, it's working with a slightly smaller input until we get to the base case."
   ]
  },
  {
   "cell_type": "code",
   "execution_count": 1,
   "id": "a312c660",
   "metadata": {},
   "outputs": [],
   "source": [
    "def recursive_max(arr):\n",
    "    \"\"\"Find the maximum number in a list.\"\"\"\n",
    "    \n",
    "    # Define base case\n",
    "    if len(arr) == 1:\n",
    "        return arr[0] # return that item\n",
    "    else:\n",
    "        max_number = recursive_max(arr[1:]) # take a slightly smaller input\n",
    "        if max_number > arr[0]:\n",
    "            return max_number\n",
    "        else: \n",
    "            return arr[0]"
   ]
  },
  {
   "cell_type": "code",
   "execution_count": 3,
   "id": "ea5f9337",
   "metadata": {},
   "outputs": [
    {
     "data": {
      "text/plain": [
       "4"
      ]
     },
     "execution_count": 3,
     "metadata": {},
     "output_type": "execute_result"
    }
   ],
   "source": [
    "# Test\n",
    "arr = [1, 2, 3, 4]\n",
    "recursive_max(arr)"
   ]
  },
  {
   "cell_type": "markdown",
   "id": "0ba6fb66",
   "metadata": {},
   "source": [
    "Let's break down what's happening as we've done before."
   ]
  },
  {
   "cell_type": "markdown",
   "id": "b464bfe5",
   "metadata": {},
   "source": [
    "**First call:**\n",
    "\n",
    "Call: `recursive_max(arr)`\n",
    "\n",
    "`arr = [1, 2, 3, 4]`\n",
    "\n",
    "`len(arr) == 1`? --> `False` --> proceed to recursive case\n",
    "\n",
    "`max_number = recursive_call([2, 3, 4])`\n",
    "\n",
    "`arr[0] = 1`\n",
    "\n"
   ]
  },
  {
   "cell_type": "markdown",
   "id": "64608cd2",
   "metadata": {},
   "source": [
    "**Second call:**\n",
    "\n",
    "`arr = [2, 3, 4]`\n",
    "\n",
    "`len(arr) == 1`? --> `False` --> proceed to recursive case\n",
    "\n",
    "`max_number = recursive_max([3, 4])`\n",
    "\n",
    "`arr[0] = 3`"
   ]
  },
  {
   "cell_type": "markdown",
   "id": "3230c301",
   "metadata": {},
   "source": [
    "**Third call:**\n",
    "\n",
    "`arr = [3, 4]`\n",
    "\n",
    "`len(arr) == 1`? --> `False` --> proceed to recursive case\n",
    "\n",
    "`max_number = recursive_max([4])`\n",
    "\n",
    "`arr[0] = 3`"
   ]
  },
  {
   "cell_type": "markdown",
   "id": "f2fb283a",
   "metadata": {},
   "source": [
    "**Fourth call:**\n",
    "\n",
    "`arr = [4]`\n",
    "\n",
    "`len(arr) == 1` --> `True` --> `return 4`"
   ]
  },
  {
   "cell_type": "markdown",
   "id": "521340f3",
   "metadata": {},
   "source": [
    "Now that we've visualized the call stack and what's happening with each call, let's work our way back and evaluate how we find the maximum number, starting with the fourth call."
   ]
  },
  {
   "cell_type": "markdown",
   "id": "ae6a3cc3",
   "metadata": {},
   "source": [
    "**Fourth call:**\n",
    "\n",
    "Call: `max_number = recursive_call([4])`\n",
    "\n",
    "Result: `max_number = 4`"
   ]
  },
  {
   "cell_type": "markdown",
   "id": "bf0bd768",
   "metadata": {},
   "source": [
    "**Third call:**\n",
    "\n",
    "`max_number > arr[0]`?\n",
    "\n",
    "`max_number == 4; arr[0] == 3`\n",
    "\n",
    "Plugging in numbers: `4 > 3`\n",
    "\n",
    "Result: `return 4`"
   ]
  },
  {
   "cell_type": "markdown",
   "id": "63ad7d19",
   "metadata": {},
   "source": [
    "**Second call:**\n",
    "\n",
    "`max_number > arr[0]`?\n",
    "\n",
    "`max_number == 4; arr[0] == 2`\n",
    "\n",
    "Plugging in numbers: `4 > 2`\n",
    "\n",
    "Result: `return 4`"
   ]
  },
  {
   "cell_type": "markdown",
   "id": "38d0e8aa",
   "metadata": {},
   "source": [
    "**First call:**\n",
    "\n",
    "`max_number > arr[0]`?\n",
    "\n",
    "`max_number == 4; arr[0] == 2`\n",
    "\n",
    "Plugging in numbers: `4 > 1`\n",
    "\n",
    "Result: `return 4`"
   ]
  },
  {
   "cell_type": "markdown",
   "id": "5b9ab81a",
   "metadata": {},
   "source": [
    "For additional practice, I wanted to try to write some other recursive functions."
   ]
  },
  {
   "cell_type": "code",
   "execution_count": 1,
   "id": "6cbdc124",
   "metadata": {},
   "outputs": [],
   "source": [
    "# Add a few print statements to understand what's going on for each recursive call\n",
    "def sum_to_one(num):\n",
    "    \"\"\"Sum all positive integers from 1 to the number provided.\"\"\"\n",
    "\n",
    "    if num == 1:\n",
    "        return num\n",
    "    else:\n",
    "        return num + sum_to_one(num - 1)\n"
   ]
  },
  {
   "cell_type": "code",
   "execution_count": 2,
   "id": "67280c78",
   "metadata": {},
   "outputs": [
    {
     "data": {
      "text/plain": [
       "55"
      ]
     },
     "execution_count": 2,
     "metadata": {},
     "output_type": "execute_result"
    }
   ],
   "source": [
    "# Test\n",
    "arr = list(range(1, 11)) # 1 to 10-- summation should equal 55\n",
    "sum(arr)"
   ]
  },
  {
   "cell_type": "code",
   "execution_count": 3,
   "id": "b9b82650",
   "metadata": {},
   "outputs": [
    {
     "data": {
      "text/plain": [
       "True"
      ]
     },
     "execution_count": 3,
     "metadata": {},
     "output_type": "execute_result"
    }
   ],
   "source": [
    "# Compare with sum_to_one function\n",
    "sum_to_one(10) == sum(arr)"
   ]
  },
  {
   "cell_type": "code",
   "execution_count": 4,
   "id": "7a793e2b",
   "metadata": {},
   "outputs": [],
   "source": [
    "# Written in a loop\n",
    "def sum_to_one_loop(num):\n",
    "    \"\"\"Sum all positive integers from 1 to the number provided with a loop.\"\"\"\n",
    "    \n",
    "    total = 0\n",
    "    while num >= 1:\n",
    "        total += num\n",
    "        num -= 1\n",
    "    \n",
    "    return total"
   ]
  },
  {
   "cell_type": "code",
   "execution_count": 5,
   "id": "846774d7",
   "metadata": {},
   "outputs": [
    {
     "data": {
      "text/plain": [
       "55"
      ]
     },
     "execution_count": 5,
     "metadata": {},
     "output_type": "execute_result"
    }
   ],
   "source": [
    "# Test with the same number\n",
    "sum_to_one_loop(10)"
   ]
  },
  {
   "cell_type": "markdown",
   "id": "43572d39",
   "metadata": {},
   "source": [
    "**4.4) Write a binary search recursive function.**\n",
    "\n",
    "The base case for a binary search recursive function should be `if len(arr) == 1: return arr[0]`, just like the other base cases.  Very similar to our previous code, we'll define a starting low and high point to find the middle value, then test to see if the middle value is equal to the item.  If the middle value matches the item, we'll return its index.  If the middle value is greater than our item, we know we've gone too and need throw away thr right half.  In contrast, if the middle value is less than our item, we know we can throw away the left half."
   ]
  },
  {
   "cell_type": "code",
   "execution_count": 22,
   "id": "e40525d4",
   "metadata": {},
   "outputs": [],
   "source": [
    "# Recursive binary search\n",
    "def binary_search(arr, item):\n",
    "    \"\"\"Implement binary search to find the item in an array.\"\"\"\n",
    "    \n",
    "    if len(arr) == 1:\n",
    "        if arr[0] == item:\n",
    "            return item\n",
    "        else:\n",
    "            return None\n",
    "    else: # recursive case\n",
    "        low = 0\n",
    "        high = len(arr) - 1\n",
    "        middle = (low + high) // 2\n",
    "        guess = arr[middle]\n",
    "        \n",
    "        if guess == item:\n",
    "            return middle\n",
    "        \n",
    "        if guess > item:\n",
    "            return binary_search(arr[0:middle-1], item)\n",
    "        else: \n",
    "            return binary_search(arr[1:middle], item)\n",
    "            "
   ]
  },
  {
   "cell_type": "code",
   "execution_count": 28,
   "id": "5d972029",
   "metadata": {},
   "outputs": [
    {
     "data": {
      "text/plain": [
       "4"
      ]
     },
     "execution_count": 28,
     "metadata": {},
     "output_type": "execute_result"
    }
   ],
   "source": [
    "# Test function\n",
    "# In a list from 1 to 10, we'll look for 5 at index 4\n",
    "arr = list(range(1, 11))\n",
    "binary_search(arr, 5)"
   ]
  },
  {
   "cell_type": "markdown",
   "id": "99c2fcfe",
   "metadata": {},
   "source": [
    "## Quicksort"
   ]
  },
  {
   "cell_type": "markdown",
   "id": "b0735b45",
   "metadata": {},
   "source": [
    "The base case for a recursive quicksort algorithm is either an empty array or an array with just one element."
   ]
  },
  {
   "cell_type": "code",
   "execution_count": null,
   "id": "cde9a8ac",
   "metadata": {},
   "outputs": [],
   "source": [
    "# Base case for quicksort algorithm\n",
    "def quicksort(arr):\n",
    "    \"\"\"Implement quicksort algorithm on an array.\"\"\"\n",
    "    \n",
    "    # Base case-- empty or one-element array\n",
    "    if len(arr) < 2:\n",
    "        return arr \n",
    "    "
   ]
  },
  {
   "cell_type": "markdown",
   "id": "eedba361",
   "metadata": {},
   "source": [
    "The basic premise of quicksort is to pick a value, called a pivot, and partion the original array into two sub-arrays-- one sub-array contains the values that are less than the pivot, and the other subarray contains values that are greater than the pivot.  After we've partioned the two sub-arrays, we can use recursion to again create a pivot and split into additional sub-arrays until we reach the base case of an array with 0 or 1 elements.  Once the two sub-arrays are sorted, we simply combine the results into a new sorted array.\n",
    "\n",
    "Below is the code to put the rest of the algorithm together."
   ]
  },
  {
   "cell_type": "code",
   "execution_count": 34,
   "id": "ba8184e5",
   "metadata": {},
   "outputs": [],
   "source": [
    "def quicksort(arr):\n",
    "    \"\"\"Implement quicksort algorithm on an array.\"\"\"\n",
    "    \n",
    "    if len(arr) < 2:\n",
    "        return arr\n",
    "    else:\n",
    "        pivot = arr[0] # pick a pivot point\n",
    "\n",
    "        # For each element in the array other than the pivot, if it's less than the pivot, add to the less sub-array\n",
    "        less = [i for i in arr[1:] if i <= pivot]\n",
    "        \n",
    "        # Similarly, if greater than the pivot, add to the greater sub-array\n",
    "        greater = [i for i in arr[1:] if i > pivot]\n",
    "        \n",
    "        # Recursive call to sort both sub-arrays    \n",
    "        return quicksort(less) + [pivot] + quicksort(greater)"
   ]
  },
  {
   "cell_type": "code",
   "execution_count": 36,
   "id": "237ee905",
   "metadata": {},
   "outputs": [
    {
     "data": {
      "text/plain": [
       "[2, 3, 5, 10, 15, 23, 30, 45]"
      ]
     },
     "execution_count": 36,
     "metadata": {},
     "output_type": "execute_result"
    }
   ],
   "source": [
    "# Test\n",
    "arr = [10, 5, 2, 3, 30, 45, 23, 15]\n",
    "quicksort(arr)"
   ]
  },
  {
   "cell_type": "markdown",
   "id": "ddbf8647",
   "metadata": {},
   "source": [
    "## Big O notation revisited"
   ]
  },
  {
   "cell_type": "markdown",
   "id": "9ce9f7dc",
   "metadata": {},
   "source": [
    "When we describe Big O notation, we typically ignore the constants that describe the time to complete a certain operation.  The rationale for ignoring this constant most of the time is that if two algorithms have different time complexities-- for example, O(n) versus O(log n)-- it doesn't really matter what those constants are.  In the case of sorting algorithms, there is another algorithm called merge sort, but in this case, the constant does matter and it makes quicksort a bit faster than merge sort.  "
   ]
  },
  {
   "cell_type": "markdown",
   "id": "9f1bbfc8",
   "metadata": {},
   "source": [
    "Quicksort has a Big O time of O(n log n) because we need to think about two different Big O times-- first, each recursive call results in a partitioning of the original array, but each time we call the function again, we need to \"touch\" each of n elements until we hit the base case.  However, we also need to think about the height of the call stack, which will be influenced by which element we choose as the pivot.  It turns out that if we choose any element randomly as the pivot, the performance of the algorithm will, on average, have Big O time of O(n log n).  In the absolute worst case, if we always use the first element as the pivot, we'll have O(n^2) time complexity because the call stack will be much taller."
   ]
  },
  {
   "cell_type": "markdown",
   "id": "9093ca7f",
   "metadata": {},
   "source": [
    "## Exercises"
   ]
  },
  {
   "cell_type": "markdown",
   "id": "c0e1cce6",
   "metadata": {},
   "source": [
    "**4.5) How long would printing the value of each element in an array take?**\n",
    "\n",
    "To print the value of each element in an array, we would need to touch every element, so this operation would have a Big O time of O(n)."
   ]
  },
  {
   "cell_type": "markdown",
   "id": "a5101e66",
   "metadata": {},
   "source": [
    "**4.6) How long would double the value of each element in an array take?**\n",
    "\n",
    "Similar to the answer above, because we need to touch every element, this operation would have a Big O time of O(n)."
   ]
  },
  {
   "cell_type": "markdown",
   "id": "a1fa60c7",
   "metadata": {},
   "source": [
    "**4.7) How long would doubling just the first element in an array take?**\n",
    "\n",
    "Because we just need to access the first element, this would be constant time, or in Big O notation, O(1).  "
   ]
  },
  {
   "cell_type": "markdown",
   "id": "044cba5d",
   "metadata": {},
   "source": [
    "**4.8) How long would it take to create a multiplication table with all the elements in an array?**\n",
    "\n",
    "To create a multiplication table (or a matrix), we would take an example array like `[2, 3, 4, 5]` and multiply every element by `2`, then by `3`, etc.  Thinking about this in a loop context, we'd need to write one for loop nested within the other, but for both operations, we need to touch each of n elements.  But, we need to do this to multiply the first element by all of the others, then the second element, and up to and including the nth element.  This process would have a Big O time of O(n^2)."
   ]
  }
 ],
 "metadata": {
  "kernelspec": {
   "display_name": "Python 3 (ipykernel)",
   "language": "python",
   "name": "python3"
  },
  "language_info": {
   "codemirror_mode": {
    "name": "ipython",
    "version": 3
   },
   "file_extension": ".py",
   "mimetype": "text/x-python",
   "name": "python",
   "nbconvert_exporter": "python",
   "pygments_lexer": "ipython3",
   "version": "3.9.7"
  }
 },
 "nbformat": 4,
 "nbformat_minor": 5
}
