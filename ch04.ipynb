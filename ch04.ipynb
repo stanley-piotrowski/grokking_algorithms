{
 "cells": [
  {
   "cell_type": "markdown",
   "id": "10b4e970",
   "metadata": {},
   "source": [
    "# Chapter 4: quicksort"
   ]
  },
  {
   "cell_type": "markdown",
   "id": "819ddf15",
   "metadata": {},
   "source": [
    "This chapter focuses on the divide and conquer strategy to solve problems and introduces the quicksort algorithm, one which uses both divide and conquer and recursion to sort data faster than selection sort."
   ]
  },
  {
   "cell_type": "code",
   "execution_count": 1,
   "id": "e12e4dbe",
   "metadata": {},
   "outputs": [],
   "source": [
    "# Setup \n",
    "import math"
   ]
  },
  {
   "cell_type": "markdown",
   "id": "f93adb95",
   "metadata": {},
   "source": [
    "## Divide & conquer"
   ]
  },
  {
   "cell_type": "markdown",
   "id": "393b5ac4",
   "metadata": {},
   "source": [
    "The basic strategy of divide an conquer is to identify a simple base case and then try to work backgrounds and figure out how to reduce the original problem to the base case.  In the case of summing all numbers in an array, we can think of the simplest base case as either an empty array or an array with 1 element.  Then we can write a recursive function that continuously calls itself and sums up all of the numbers.\n",
    "\n",
    "Here's what the function could look like written with a for loop."
   ]
  },
  {
   "cell_type": "code",
   "execution_count": 3,
   "id": "d5c551a6",
   "metadata": {},
   "outputs": [],
   "source": [
    "def sum(arr):\n",
    "    \"\"\"Return the sum of an array of numbers.\"\"\"\n",
    "    total = 0\n",
    "    for num in arr:\n",
    "        total += num\n",
    "        \n",
    "    return total"
   ]
  },
  {
   "cell_type": "code",
   "execution_count": 12,
   "id": "52356cf1",
   "metadata": {},
   "outputs": [
    {
     "data": {
      "text/plain": [
       "10"
      ]
     },
     "execution_count": 12,
     "metadata": {},
     "output_type": "execute_result"
    }
   ],
   "source": [
    "# Test\n",
    "arr = list(range(1, 5))\n",
    "sum(arr)"
   ]
  },
  {
   "cell_type": "markdown",
   "id": "d304e945",
   "metadata": {},
   "source": [
    "Now we'll write the function using recursion.  We want to move closer and closer to an empty array (the base case).  To do this, we want to pop off an element for each recursive call, which will successfully reduce the problem to the base case."
   ]
  },
  {
   "cell_type": "code",
   "execution_count": 14,
   "id": "b335643a",
   "metadata": {},
   "outputs": [],
   "source": [
    "def sum_recursive(arr):\n",
    "    \"\"\"Return the sum of an array of numbers using recursion.\"\"\"\n",
    "    \n",
    "    if len(arr) == 1:\n",
    "        return arr[0] # if array is one element, return the element\n",
    "    else:\n",
    "        return arr[0] + sum_recursive(arr[1:])"
   ]
  },
  {
   "cell_type": "code",
   "execution_count": 15,
   "id": "710c4786",
   "metadata": {},
   "outputs": [
    {
     "data": {
      "text/plain": [
       "10"
      ]
     },
     "execution_count": 15,
     "metadata": {},
     "output_type": "execute_result"
    }
   ],
   "source": [
    "arr = list(range(1, 5))\n",
    "sum_recursive(arr)"
   ]
  },
  {
   "cell_type": "markdown",
   "id": "570d7a8a",
   "metadata": {},
   "source": [
    "Below I've defined how the function is working for each recursive call:\n",
    "\n",
    "**First call:**\n",
    "\n",
    "Call: `sum(arr)`\n",
    "\n",
    "`arr` = `[1, 2, 3, 4]`\n",
    "\n",
    "`len(arr) == 1` --> `False` --> proceed to recursive call\n",
    "\n",
    "\n",
    "**Second call:**\n",
    "\n",
    "Call: `arr[0] + sum(arr[1:])`\n",
    "\n",
    "Interpreted call: `1 + sum([2, 3, 4])`\n",
    "\n",
    "`arr` = `[2, 3, 4]`\n",
    "\n",
    "`len(arr) == 1` --> `False` --> proceed to recursive call\n",
    "\n",
    "**Third call:**\n",
    "\n",
    "Call: `arr[0] + sum(arr[1:])`\n",
    "\n",
    "Interpreted call: `2 + sum([3, 4])`\n",
    "\n",
    "`arr` = `[3, 4]`\n",
    "\n",
    "`len(arr) == 1` --> `False` --> proceed to recursive call\n",
    "\n",
    "**Fourth call:**\n",
    "\n",
    "Call: `arr[0] + sum(arr[1:])`\n",
    "\n",
    "Interpreted call: `3 + sum([4])`\n",
    "\n",
    "`arr` = `[4]`\n",
    "\n",
    "`len(arr) == 1` --> `True` --> `return arr[0]`"
   ]
  },
  {
   "cell_type": "markdown",
   "id": "4eb17396",
   "metadata": {},
   "source": [
    "Now working backwards, we evaluate each of the return statements (recall, last in, first out principle of call stacks)."
   ]
  },
  {
   "cell_type": "markdown",
   "id": "841cc18a",
   "metadata": {},
   "source": [
    "**Fourth call:**\n",
    "\n",
    "Interpreted call: `3 + sum([4])`\n",
    "\n",
    "Plugging in numbers: `3 + 4`\n",
    "\n",
    "Result: `7`\n",
    "\n",
    "**Third call:**\n",
    "\n",
    "Interpreted call: `2 + sum([3, 4])`\n",
    "\n",
    "Plugging in numbers: `2 + 7` \n",
    "\n",
    "Result: `9`\n",
    "\n",
    "**Second call:**\n",
    "\n",
    "Interpreted call: `1 + sum([2, 3, 4])`\n",
    "\n",
    "Plugging in numbers: `1 + 9`\n",
    "\n",
    "Result: `10`\n"
   ]
  },
  {
   "cell_type": "markdown",
   "id": "e9bf0eed",
   "metadata": {},
   "source": [
    "## Exercises"
   ]
  },
  {
   "cell_type": "markdown",
   "id": "19c9be89",
   "metadata": {},
   "source": [
    "**4.1) Write out the code for the earlier `sum` function.**\n",
    "\n",
    "See above."
   ]
  },
  {
   "cell_type": "markdown",
   "id": "5d5ad090",
   "metadata": {},
   "source": [
    "**4.2) Write a recursive function to count the number of items in an list.**\n",
    "\n",
    "Similar to the code for the `sum` function, we need to define a base case.  When the list has a single element, we return 1.  If the length of the list is not equal to one, we pass the condition for the recursive case and call the function again.  "
   ]
  },
  {
   "cell_type": "code",
   "execution_count": 24,
   "id": "8b38f9c5",
   "metadata": {},
   "outputs": [],
   "source": [
    "def count_items(arr):\n",
    "    \"\"\"Return the number of items in an array.\"\"\"\n",
    "    \n",
    "    if len(arr) == 1: # base case\n",
    "        return 1\n",
    "    else: # recursive case\n",
    "        return 1 + count_items(arr[1:]) "
   ]
  },
  {
   "cell_type": "code",
   "execution_count": 25,
   "id": "1dd79488",
   "metadata": {},
   "outputs": [
    {
     "data": {
      "text/plain": [
       "4"
      ]
     },
     "execution_count": 25,
     "metadata": {},
     "output_type": "execute_result"
    }
   ],
   "source": [
    "arr = list(range(1, 5))\n",
    "count_items(arr)"
   ]
  },
  {
   "cell_type": "markdown",
   "id": "4838108d",
   "metadata": {},
   "source": [
    "Using an example array of `[1, 2, 3, 4]`, `count_items()` should return `4`.  Let's write out how the call stack would look:"
   ]
  },
  {
   "cell_type": "markdown",
   "id": "84c87ecb",
   "metadata": {},
   "source": [
    "**First call:**\n",
    "\n",
    "`arr = [1, 2, 3, 4]`\n",
    "\n",
    "`len(arr) == 1`? --> `False` --> proceed to recursive call"
   ]
  },
  {
   "cell_type": "markdown",
   "id": "e5d8d6d5",
   "metadata": {},
   "source": [
    "**Second call:**\n",
    "\n",
    "`arr = [2, 3, 4]`\n",
    "\n",
    "`len(arr) == 1` --> `False` --> proceed to recursive call"
   ]
  },
  {
   "cell_type": "markdown",
   "id": "cf66fca1",
   "metadata": {},
   "source": [
    "**Third call:**\n",
    "\n",
    "`arr = [3, 4]`\n",
    "\n",
    "`len(arr) == 1` --> `False` --> proceed to recursive call"
   ]
  },
  {
   "cell_type": "markdown",
   "id": "a8c5d991",
   "metadata": {},
   "source": [
    "**Fourth call:**\n",
    "\n",
    "`arr = [4]`\n",
    "\n",
    "`len(arr) == 1` --> `True` --> `return 1`"
   ]
  },
  {
   "cell_type": "markdown",
   "id": "7417bf14",
   "metadata": {},
   "source": [
    "Now working backwards with `return` statements from the fourth call to the first:"
   ]
  },
  {
   "cell_type": "markdown",
   "id": "2bf283ed",
   "metadata": {},
   "source": [
    "**Fourth call:**\n",
    "\n",
    "Interpreted call: `1 + count_items([4])`\n",
    "\n",
    "Plugging in numbers: `1 + 1`\n",
    "\n",
    "Result: `2`"
   ]
  },
  {
   "cell_type": "markdown",
   "id": "0d06e41a",
   "metadata": {},
   "source": [
    "**Third call:**\n",
    "\n",
    "Interpreted call: `1 + count_items([3, 4])`\n",
    "\n",
    "Plugging in numbers: `1 + 2`\n",
    "\n",
    "Result: `3`\n"
   ]
  },
  {
   "cell_type": "markdown",
   "id": "0ffd959a",
   "metadata": {},
   "source": [
    "**Second call:**\n",
    "\n",
    "Interpreted call: `1 + count_items([2, 3, 4])`\n",
    "\n",
    "Plugging in numbers: `1 + 3`\n",
    "\n",
    "Result: `4`"
   ]
  },
  {
   "cell_type": "code",
   "execution_count": null,
   "id": "d86b33b8",
   "metadata": {},
   "outputs": [],
   "source": []
  }
 ],
 "metadata": {
  "kernelspec": {
   "display_name": "Python 3 (ipykernel)",
   "language": "python",
   "name": "python3"
  },
  "language_info": {
   "codemirror_mode": {
    "name": "ipython",
    "version": 3
   },
   "file_extension": ".py",
   "mimetype": "text/x-python",
   "name": "python",
   "nbconvert_exporter": "python",
   "pygments_lexer": "ipython3",
   "version": "3.9.7"
  }
 },
 "nbformat": 4,
 "nbformat_minor": 5
}
