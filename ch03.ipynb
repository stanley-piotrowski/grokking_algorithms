{
 "cells": [
  {
   "cell_type": "markdown",
   "id": "1ac78f20",
   "metadata": {},
   "source": [
    "# Chapter 3: recursion"
   ]
  },
  {
   "cell_type": "markdown",
   "id": "70bfa21f",
   "metadata": {},
   "source": [
    "## Recursion"
   ]
  },
  {
   "cell_type": "markdown",
   "id": "6fc201f2",
   "metadata": {},
   "source": [
    "Recursion is when a function calls itself.  That is, instead of using a `while` loop to iterate, you can just write a function that continuously calls itself until it meets some condition.  In the example first presented in the book, we want to look through a series of boxes until we find a key.  First, we take a box and search through the items within it.  If the item is a box (evaluated using the `is_a_box()` method), we call the function again using recursion and the process begins again: we search through the items in the new box and if the item is a box, we call the function again.  However, if the item is not a box, we print a statement that we've found the key.  "
   ]
  },
  {
   "cell_type": "markdown",
   "id": "2203e71c",
   "metadata": {},
   "source": [
    "## Base case and recursive case"
   ]
  },
  {
   "cell_type": "markdown",
   "id": "e0a573cf",
   "metadata": {},
   "source": [
    "Each recursive function is composed of a base case and a recursive case.  The base case is the condition when the function stops and doesn't call itself again.  It's important to consider the base case carefully, or you'll be stuck in an infinite loop with the function continuously calling itself.  The recursive case is the condition when the function calls itself when it evaluates to `True`.  Using the simple countdown example, here's how we'd write that recursively.  Note-- I've added an additional print statement to interrogate the location of stored data (see call stack section below)."
   ]
  },
  {
   "cell_type": "code",
   "execution_count": 17,
   "id": "8de80c7e",
   "metadata": {},
   "outputs": [],
   "source": [
    "def countdown(n):\n",
    "    \"\"\"Print countdown timer recursively.\"\"\"\n",
    "    \n",
    "    # Define base case\n",
    "    if n <= 0:\n",
    "        print('liftoff!') # exit the function\n",
    "        \n",
    "    # Define recursive case\n",
    "    else:\n",
    "        print(f'{n}... ', end='')\n",
    "        print(f'Memory location of n: {id(n)}')\n",
    "        countdown(n - 1)\n",
    "        "
   ]
  },
  {
   "cell_type": "code",
   "execution_count": 18,
   "id": "493a8370",
   "metadata": {},
   "outputs": [
    {
     "name": "stdout",
     "output_type": "stream",
     "text": [
      "3... Memory location of n: 140487843572080\n",
      "2... Memory location of n: 140487843572048\n",
      "1... Memory location of n: 140487843572016\n",
      "liftoff!\n"
     ]
    }
   ],
   "source": [
    "# Test\n",
    "countdown(3)"
   ]
  },
  {
   "cell_type": "markdown",
   "id": "06a7166a",
   "metadata": {},
   "source": [
    "## The stack"
   ]
  },
  {
   "cell_type": "markdown",
   "id": "acc65286",
   "metadata": {},
   "source": [
    "The stack refers to blocks of memory that the operating system uses to store values for variables in different function calls.  Importantly, there are only two general operations that occur with the stack-- pushing a function call onto the stack (i.e., storing data for variables in a function); and popping those variables off the stack when the function has finished running.\n",
    "\n",
    "A call stack is a special form of a stack that's used to keep track of variables in functions called by other functions.  In situations where a function is called that itself calls many other functions and takes up more space than was allocated, you'll get a \"stack overflow\" error.  You can read more about call stacks [here](https://developer.mozilla.org/en-US/docs/Glossary/Call_stack).  "
   ]
  },
  {
   "cell_type": "markdown",
   "id": "ab97d170",
   "metadata": {},
   "source": [
    "## Exercise"
   ]
  },
  {
   "cell_type": "markdown",
   "id": "ef465f0c",
   "metadata": {},
   "source": [
    "**3.1) Given a call stack with `greet` on the bottom and `greet2` on top, what can we say about the call stack?**\n",
    "\n",
    "For one, we know that `greet` has one variable, `name` that stores the value \"maggie.\"  Additionally, we know the function `greet2` stores the same variable, `name`, also with the name \"maggie.\"  Based on what we know about stacks, namely that data can only be pushed onto the stack and popped off the stack, the `greet` function was called first, then `greet2`.  We also know that because `greet2` is still on the call stack, it was called by `greet` and has yet to return an output and finish running.  When it does, it'll be popped off the call stack and we'll just be left with `greet` until it has finished running.\n",
    "\n",
    "It's important to note that at this point, `greet` is in an incomplete, suspended state because it calls another function, `greet2`, which hasn't finished running.  Only after `greet2` has finished running will `greet` resume."
   ]
  },
  {
   "cell_type": "markdown",
   "id": "29efaa16",
   "metadata": {},
   "source": [
    "I've modified the `greet` and `greet2` functions to further explore how exactly the call stack works."
   ]
  },
  {
   "cell_type": "code",
   "execution_count": 39,
   "id": "8ab93157",
   "metadata": {},
   "outputs": [],
   "source": [
    "# Define greet function\n",
    "def greet(name):\n",
    "    \"\"\"Print a greeting to the user, ask a question, then say goodbeye.\"\"\"\n",
    "    \n",
    "    call_stack = ['greet']\n",
    "    print(f'Call stack is now: {call_stack}')\n",
    "    print(f'Hello, {name}!')\n",
    "    \n",
    "    print('Pushing greet2() to the stack...')\n",
    "    call_stack.append('greet2')\n",
    "    print(f'Call stack is now: {call_stack}\\n')\n",
    "    greet2(name)\n",
    "    \n",
    "    call_stack.pop()\n",
    "    print(f'Call stack is now: {call_stack}')\n",
    "    print('Pushing bye() to the stack...\\n')\n",
    "    call_stack.append('bye')\n",
    "    print(f'Call stack is now: {call_stack}')\n",
    "    bye()\n",
    "    \n",
    "    call_stack.pop()\n",
    "    print(f'Call stack is now: {call_stack}')\n",
    "    \n",
    "# Define greet2 and bye functions\n",
    "def greet2(name):\n",
    "    \"\"\"Ask the user a question.\"\"\"\n",
    "    print('Calling greet2...')\n",
    "    print(f'How are you, {name}?')\n",
    "    print('Removing greet2 from call stack...')\n",
    "    \n",
    "def bye():\n",
    "    \"\"\"Print goodbye.\"\"\"\n",
    "    print('Calling bye...')\n",
    "    print('Ok bye!')\n",
    "    print('Removing bye from call stack...')"
   ]
  },
  {
   "cell_type": "code",
   "execution_count": 40,
   "id": "b899d0df",
   "metadata": {},
   "outputs": [
    {
     "name": "stdout",
     "output_type": "stream",
     "text": [
      "Call stack is now: ['greet']\n",
      "Hello, Stan!\n",
      "Pushing greet2() to the stack...\n",
      "Call stack is now: ['greet', 'greet2']\n",
      "\n",
      "Calling greet2...\n",
      "How are you, Stan?\n",
      "Removing greet2 from call stack...\n",
      "Call stack is now: ['greet']\n",
      "Pushing bye() to the stack...\n",
      "\n",
      "Call stack is now: ['greet', 'bye']\n",
      "Calling bye...\n",
      "Ok bye!\n",
      "Removing bye from call stack...\n",
      "Call stack is now: ['greet']\n"
     ]
    }
   ],
   "source": [
    "# Test the function \n",
    "greet('Stan')"
   ]
  },
  {
   "cell_type": "markdown",
   "id": "948b58fa",
   "metadata": {},
   "source": [
    "The important concept to remember about call stacks is that after the last call in the stack has finished, it returns some value (i.e., the base case in a recursive function) and that call is popped off the stack. "
   ]
  },
  {
   "cell_type": "markdown",
   "id": "57790208",
   "metadata": {},
   "source": [
    "## Exercise\n",
    "\n",
    "**3.2) If we accidentally write a recursive function that runs forever, what happens to the stack?**\n",
    "\n",
    "When we write a recursive function, the operating system allocates memory for the original function call and then additional memory slots for each recursive function call.  When a function runs forever (i.e., when no appropriate base case is defined), the operating system keeps allocating memory to additional function calls until it uses more memory than is allowed.  There are additional safety checks baked into the computer to flag the operating system that a function has attempted to access restricted portions of memory and will result in a segmentation fault.  Read more about these errors [here](https://en.wikipedia.org/wiki/Segmentation_fault).  In this context, a segment refers to a portion of memory.   "
   ]
  }
 ],
 "metadata": {
  "kernelspec": {
   "display_name": "Python 3 (ipykernel)",
   "language": "python",
   "name": "python3"
  },
  "language_info": {
   "codemirror_mode": {
    "name": "ipython",
    "version": 3
   },
   "file_extension": ".py",
   "mimetype": "text/x-python",
   "name": "python",
   "nbconvert_exporter": "python",
   "pygments_lexer": "ipython3",
   "version": "3.9.7"
  }
 },
 "nbformat": 4,
 "nbformat_minor": 5
}
